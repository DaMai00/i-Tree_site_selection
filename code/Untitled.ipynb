{
 "cells": [
  {
   "cell_type": "code",
   "execution_count": 1,
   "id": "57029386-50e4-49e5-8a68-3dbff45950c7",
   "metadata": {},
   "outputs": [
    {
     "name": "stderr",
     "output_type": "stream",
     "text": [
      "/opt/anaconda3/envs/pyrosm/lib/python3.10/site-packages/pyrosm/utils/__init__.py:8: UserWarning: Shapely 2.0 is installed, but because PyGEOS is also installed, GeoPandas will still use PyGEOS by default for now. To force to use and test Shapely 2.0, you have to set the environment variable USE_PYGEOS=0. You can do this before starting the Python process, or in your code before importing geopandas:\n",
      "\n",
      "import os\n",
      "os.environ['USE_PYGEOS'] = '0'\n",
      "import geopandas\n",
      "\n",
      "In a future release, GeoPandas will switch to using Shapely by default. If you are using PyGEOS directly (calling PyGEOS functions on geometries from GeoPandas), this will then stop working and you are encouraged to migrate from PyGEOS to Shapely 2.0 (https://shapely.readthedocs.io/en/latest/migration_pygeos.html).\n",
      "  import geopandas as gpd\n"
     ]
    }
   ],
   "source": [
    "from pyrosm import OSM\n",
    "from pyrosm import get_data"
   ]
  },
  {
   "cell_type": "code",
   "execution_count": 2,
   "id": "26c199a7-afc9-4d26-b151-6f65403ee37b",
   "metadata": {},
   "outputs": [
    {
     "ename": "AttributeError",
     "evalue": "module 'numpy' has no attribute 'float'",
     "output_type": "error",
     "traceback": [
      "\u001b[0;31m---------------------------------------------------------------------------\u001b[0m",
      "\u001b[0;31mAttributeError\u001b[0m                            Traceback (most recent call last)",
      "Cell \u001b[0;32mIn[2], line 11\u001b[0m\n\u001b[1;32m      7\u001b[0m osm \u001b[38;5;241m=\u001b[39m OSM(fp)\n\u001b[1;32m      9\u001b[0m \u001b[38;5;66;03m# Read all drivable roads\u001b[39;00m\n\u001b[1;32m     10\u001b[0m \u001b[38;5;66;03m# =======================\u001b[39;00m\n\u001b[0;32m---> 11\u001b[0m drive_net \u001b[38;5;241m=\u001b[39m \u001b[43mosm\u001b[49m\u001b[38;5;241;43m.\u001b[39;49m\u001b[43mget_network\u001b[49m\u001b[43m(\u001b[49m\u001b[43mnetwork_type\u001b[49m\u001b[38;5;241;43m=\u001b[39;49m\u001b[38;5;124;43m\"\u001b[39;49m\u001b[38;5;124;43mdriving\u001b[39;49m\u001b[38;5;124;43m\"\u001b[39;49m\u001b[43m)\u001b[49m\n\u001b[1;32m     12\u001b[0m drive_net\u001b[38;5;241m.\u001b[39mplot()\n",
      "File \u001b[0;32m/opt/anaconda3/envs/pyrosm/lib/python3.10/site-packages/pyrosm/pyrosm.py:205\u001b[0m, in \u001b[0;36mOSM.get_network\u001b[0;34m(self, network_type, extra_attributes, nodes)\u001b[0m\n\u001b[1;32m    202\u001b[0m     \u001b[38;5;28mself\u001b[39m\u001b[38;5;241m.\u001b[39m_read_pbf()\n\u001b[1;32m    204\u001b[0m \u001b[38;5;66;03m# Filter network data with given filter\u001b[39;00m\n\u001b[0;32m--> 205\u001b[0m edges, node_gdf \u001b[38;5;241m=\u001b[39m \u001b[43mget_network_data\u001b[49m\u001b[43m(\u001b[49m\n\u001b[1;32m    206\u001b[0m \u001b[43m    \u001b[49m\u001b[38;5;28;43mself\u001b[39;49m\u001b[38;5;241;43m.\u001b[39;49m\u001b[43m_node_coordinates\u001b[49m\u001b[43m,\u001b[49m\n\u001b[1;32m    207\u001b[0m \u001b[43m    \u001b[49m\u001b[38;5;28;43mself\u001b[39;49m\u001b[38;5;241;43m.\u001b[39;49m\u001b[43m_way_records\u001b[49m\u001b[43m,\u001b[49m\n\u001b[1;32m    208\u001b[0m \u001b[43m    \u001b[49m\u001b[43mtags_as_columns\u001b[49m\u001b[43m,\u001b[49m\n\u001b[1;32m    209\u001b[0m \u001b[43m    \u001b[49m\u001b[43mnetwork_filter\u001b[49m\u001b[43m,\u001b[49m\n\u001b[1;32m    210\u001b[0m \u001b[43m    \u001b[49m\u001b[38;5;28;43mself\u001b[39;49m\u001b[38;5;241;43m.\u001b[39;49m\u001b[43mbounding_box\u001b[49m\u001b[43m,\u001b[49m\n\u001b[1;32m    211\u001b[0m \u001b[43m    \u001b[49m\u001b[43mslice_to_segments\u001b[49m\u001b[38;5;241;43m=\u001b[39;49m\u001b[43mnodes\u001b[49m\u001b[43m,\u001b[49m\n\u001b[1;32m    212\u001b[0m \u001b[43m\u001b[49m\u001b[43m)\u001b[49m\n\u001b[1;32m    214\u001b[0m \u001b[38;5;28;01mif\u001b[39;00m edges \u001b[38;5;129;01mis\u001b[39;00m \u001b[38;5;129;01mnot\u001b[39;00m \u001b[38;5;28;01mNone\u001b[39;00m:\n\u001b[1;32m    215\u001b[0m     \u001b[38;5;66;03m# Add metadata\u001b[39;00m\n\u001b[1;32m    216\u001b[0m     edges\u001b[38;5;241m.\u001b[39m_metadata\u001b[38;5;241m.\u001b[39mappend(network_type)\n",
      "File \u001b[0;32m/opt/anaconda3/envs/pyrosm/lib/python3.10/site-packages/pyrosm/networks.py:37\u001b[0m, in \u001b[0;36mget_network_data\u001b[0;34m(node_coordinates, way_records, tags_as_columns, network_filter, bounding_box, slice_to_segments)\u001b[0m\n\u001b[1;32m     34\u001b[0m     \u001b[38;5;28;01mreturn\u001b[39;00m \u001b[38;5;28;01mNone\u001b[39;00m, \u001b[38;5;28;01mNone\u001b[39;00m\n\u001b[1;32m     36\u001b[0m \u001b[38;5;66;03m# Prepare GeoDataFrame\u001b[39;00m\n\u001b[0;32m---> 37\u001b[0m edges, nodes \u001b[38;5;241m=\u001b[39m \u001b[43mprepare_geodataframe\u001b[49m\u001b[43m(\u001b[49m\n\u001b[1;32m     38\u001b[0m \u001b[43m    \u001b[49m\u001b[43mnodes\u001b[49m\u001b[43m,\u001b[49m\n\u001b[1;32m     39\u001b[0m \u001b[43m    \u001b[49m\u001b[43mnode_coordinates\u001b[49m\u001b[43m,\u001b[49m\n\u001b[1;32m     40\u001b[0m \u001b[43m    \u001b[49m\u001b[43mways\u001b[49m\u001b[43m,\u001b[49m\n\u001b[1;32m     41\u001b[0m \u001b[43m    \u001b[49m\u001b[43mrelations\u001b[49m\u001b[43m,\u001b[49m\n\u001b[1;32m     42\u001b[0m \u001b[43m    \u001b[49m\u001b[43mrelation_ways\u001b[49m\u001b[43m,\u001b[49m\n\u001b[1;32m     43\u001b[0m \u001b[43m    \u001b[49m\u001b[43mtags_as_columns\u001b[49m\u001b[43m,\u001b[49m\n\u001b[1;32m     44\u001b[0m \u001b[43m    \u001b[49m\u001b[43mbounding_box\u001b[49m\u001b[43m,\u001b[49m\n\u001b[1;32m     45\u001b[0m \u001b[43m    \u001b[49m\u001b[43mparse_network\u001b[49m\u001b[38;5;241;43m=\u001b[39;49m\u001b[38;5;28;43;01mTrue\u001b[39;49;00m\u001b[43m,\u001b[49m\n\u001b[1;32m     46\u001b[0m \u001b[43m    \u001b[49m\u001b[43mcalculate_seg_lengths\u001b[49m\u001b[38;5;241;43m=\u001b[39;49m\u001b[43mslice_to_segments\u001b[49m\u001b[43m,\u001b[49m\n\u001b[1;32m     47\u001b[0m \u001b[43m\u001b[49m\u001b[43m)\u001b[49m\n\u001b[1;32m     49\u001b[0m \u001b[38;5;28;01mreturn\u001b[39;00m edges, nodes\n",
      "File \u001b[0;32m/opt/anaconda3/envs/pyrosm/lib/python3.10/site-packages/pyrosm/frames.pyx:134\u001b[0m, in \u001b[0;36mpyrosm.frames.prepare_geodataframe\u001b[0;34m()\u001b[0m\n",
      "File \u001b[0;32m/opt/anaconda3/envs/pyrosm/lib/python3.10/site-packages/pyrosm/frames.pyx:141\u001b[0m, in \u001b[0;36mpyrosm.frames.prepare_geodataframe\u001b[0;34m()\u001b[0m\n",
      "File \u001b[0;32m/opt/anaconda3/envs/pyrosm/lib/python3.10/site-packages/pyrosm/frames.pyx:54\u001b[0m, in \u001b[0;36mpyrosm.frames.prepare_way_gdf\u001b[0;34m()\u001b[0m\n",
      "File \u001b[0;32m/opt/anaconda3/envs/pyrosm/lib/python3.10/site-packages/pyrosm/geometry.pyx:431\u001b[0m, in \u001b[0;36mpyrosm.geometry.create_way_geometries\u001b[0;34m()\u001b[0m\n",
      "File \u001b[0;32m/opt/anaconda3/envs/pyrosm/lib/python3.10/site-packages/pyrosm/geometry.pyx:405\u001b[0m, in \u001b[0;36mpyrosm.geometry._create_way_geometries\u001b[0;34m()\u001b[0m\n",
      "File \u001b[0;32m/opt/anaconda3/envs/pyrosm/lib/python3.10/site-packages/pyrosm/geometry.pyx:330\u001b[0m, in \u001b[0;36mpyrosm.geometry.create_linestring_geometry\u001b[0;34m()\u001b[0m\n",
      "File \u001b[0;32m/opt/anaconda3/envs/pyrosm/lib/python3.10/site-packages/pyrosm/geometry.pyx:312\u001b[0m, in \u001b[0;36mpyrosm.geometry.create_linestring_geometry\u001b[0;34m()\u001b[0m\n",
      "File \u001b[0;32m/opt/anaconda3/envs/pyrosm/lib/python3.10/site-packages/numpy/__init__.py:284\u001b[0m, in \u001b[0;36m__getattr__\u001b[0;34m(attr)\u001b[0m\n\u001b[1;32m    281\u001b[0m     \u001b[38;5;28;01mfrom\u001b[39;00m \u001b[38;5;21;01m.\u001b[39;00m\u001b[38;5;21;01mtesting\u001b[39;00m \u001b[38;5;28;01mimport\u001b[39;00m Tester\n\u001b[1;32m    282\u001b[0m     \u001b[38;5;28;01mreturn\u001b[39;00m Tester\n\u001b[0;32m--> 284\u001b[0m \u001b[38;5;28;01mraise\u001b[39;00m \u001b[38;5;167;01mAttributeError\u001b[39;00m(\u001b[38;5;124m\"\u001b[39m\u001b[38;5;124mmodule \u001b[39m\u001b[38;5;132;01m{!r}\u001b[39;00m\u001b[38;5;124m has no attribute \u001b[39m\u001b[38;5;124m\"\u001b[39m\n\u001b[1;32m    285\u001b[0m                      \u001b[38;5;124m\"\u001b[39m\u001b[38;5;132;01m{!r}\u001b[39;00m\u001b[38;5;124m\"\u001b[39m\u001b[38;5;241m.\u001b[39mformat(\u001b[38;5;18m__name__\u001b[39m, attr))\n",
      "\u001b[0;31mAttributeError\u001b[0m: module 'numpy' has no attribute 'float'"
     ]
    }
   ],
   "source": [
    "# Pyrosm comes with a couple of test datasets \n",
    "# that can be used straight away without\n",
    "# downloading anything\n",
    "fp = get_data(\"test_pbf\")\n",
    "\n",
    "# Initialize the OSM parser object\n",
    "osm = OSM(fp)\n",
    "\n",
    "# Read all drivable roads\n",
    "# =======================\n",
    "drive_net = osm.get_network(network_type=\"driving\")\n",
    "drive_net.plot()"
   ]
  },
  {
   "cell_type": "code",
   "execution_count": null,
   "id": "12f2ae2b-ca63-4b24-a8fc-f9b4f6f0dbe1",
   "metadata": {},
   "outputs": [],
   "source": []
  }
 ],
 "metadata": {
  "kernelspec": {
   "display_name": "Python [conda env:pyrosm]",
   "language": "python",
   "name": "conda-env-pyrosm-py"
  },
  "language_info": {
   "codemirror_mode": {
    "name": "ipython",
    "version": 3
   },
   "file_extension": ".py",
   "mimetype": "text/x-python",
   "name": "python",
   "nbconvert_exporter": "python",
   "pygments_lexer": "ipython3",
   "version": "3.10.8"
  }
 },
 "nbformat": 4,
 "nbformat_minor": 5
}
