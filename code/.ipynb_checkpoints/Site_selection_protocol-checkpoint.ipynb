{
 "cells": [
  {
   "cell_type": "markdown",
   "id": "5c780bff-2610-4509-9ace-620fa94c0538",
   "metadata": {},
   "source": [
    "# Site selection protocol for the i-trees project\n",
    "\n",
    "As part of the i-Trees project a major data collection campaign will be started in 2023. Over the course of the summer the cooling effect of different tree species will be assessed in 6 different cities in the Netherlands.\n",
    "\n",
    "There are tens of thousands of trees under municipal management in the respective cities. This poses the question of how to select the trees to be studied. Additional requirements for the selection are that trees in each city should be similarly situated. This prompts the need for a reproduceable approach for tree selection (hereafter the tree selection protocol).\n",
    "\n",
    "The tree selection follows different tracks and is applied in a step by step process:\n",
    "\n",
    "1. All trees should be at least 25m away from water surfaces\n",
    "\n",
    "then, further \n",
    "\n",
    "2. trees in parks.\n",
    "3. trees in street canyons.\n",
    "\n",
    "for both avenues, different criteria area applied. \n",
    "\n",
    "__Trees in parks:__\n",
    "\n",
    "- trees shall be at least x m away from other landuse\n",
    "- trees shall be isolated from other trees (free standing), which is assessed by calculating the crown cover % in a x m buffer around each tree.\n",
    "- trees shall be in a specific density environment which is assessed by calculating the Floor Space Index (a built up area density measure) in a x m buffer around it.\n",
    "\n",
    "__Trees in street canyons:__\n",
    "\n",
    "- trees shall be located in streets that are oriented e-w (within a healthy margin) so building shadows don't interfere with the measurements.\n",
    "- trees shall be located in streets with a width >= x.\n",
    "- trees shall be located in streets with a h/w ratio of <= x.\n",
    "- trees shall be isolated from other trees (free standing), which is assessed by calculating the crown cover % in a x m buffer around each tree.\n",
    "\n",
    "__FSI/GSI in buffer around trees__\n",
    "- FSI/GSI were calculated, threshold values still need to be defined\n",
    "\n",
    "---------\n",
    "\n",
    "If not already done, please install all libraries and dependencies using the environment.txt file using:\n",
    "\n",
    "$ conda create -n <environment-name> --file req.txt"
   ]
  },
  {
   "cell_type": "markdown",
   "id": "375f59fa-9ac0-4939-9de1-9a906e8d2316",
   "metadata": {},
   "source": [
    "<div>\n",
    "<img src=\"../documents/protocol.jpeg\" width=\"1000\"/>\n",
    "</div>"
   ]
  },
  {
   "cell_type": "markdown",
   "id": "07c0b6d5-15d3-4d2e-855c-202d5f127d48",
   "metadata": {
    "tags": []
   },
   "source": [
    "## Section 0: Import modules and functions"
   ]
  },
  {
   "cell_type": "markdown",
   "id": "38a76dcf-9041-4d67-9a7b-20da867c229b",
   "metadata": {
    "tags": []
   },
   "source": [
    "### Section 0.1: Modules"
   ]
  },
  {
   "cell_type": "code",
   "execution_count": 1,
   "id": "a1d3436c-0772-404f-bd06-97ee214ff432",
   "metadata": {},
   "outputs": [
    {
     "name": "stderr",
     "output_type": "stream",
     "text": [
      "/opt/anaconda3/envs/momepy_env_2/lib/python3.11/site-packages/momepy/coins.py:15: UserWarning: Shapely 2.0 is installed, but because PyGEOS is also installed, GeoPandas will still use PyGEOS by default for now. To force to use and test Shapely 2.0, you have to set the environment variable USE_PYGEOS=0. You can do this before starting the Python process, or in your code before importing geopandas:\n",
      "\n",
      "import os\n",
      "os.environ['USE_PYGEOS'] = '0'\n",
      "import geopandas\n",
      "\n",
      "In a future release, GeoPandas will switch to using Shapely by default. If you are using PyGEOS directly (calling PyGEOS functions on geometries from GeoPandas), this will then stop working and you are encouraged to migrate from PyGEOS to Shapely 2.0 (https://shapely.readthedocs.io/en/latest/migration_pygeos.html).\n",
      "  import geopandas as gpd\n"
     ]
    }
   ],
   "source": [
    "import pandas as pd\n",
    "import momepy\n",
    "import geopandas as gpd\n",
    "import matplotlib.pyplot as plt\n",
    "\n",
    "import numpy as np\n",
    "from tqdm.auto import tqdm  # progress bar\n",
    "import math\n",
    "import warnings\n",
    "\n",
    "import geopandas as gpd\n",
    "import libpysal\n",
    "import networkx as nx\n",
    "import numpy as np\n",
    "from numpy.lib import NumpyVersion\n",
    "from shapely.geometry import Point, LineString\n",
    "from shapely.geometry import Polygon\n",
    "\n",
    "import folium\n",
    "\n",
    "#import os; os.environ['PROJ_LIB'] = '/path/to/env/share/proj'  #- not necessary if in own environment, use this if you are using gds8 and are getting an error. This points to the correct projection library.\n",
    "\n",
    "pd.set_option('display.max_columns', None) #-- to show all columns of datasets. To reset: pd.reset_option(“max_columns”)"
   ]
  },
  {
   "cell_type": "code",
   "execution_count": 2,
   "id": "c3fcdfcc-37de-4963-86c9-283b60cce6e9",
   "metadata": {},
   "outputs": [],
   "source": [
    "# Reimport geopandas to load it properly.\n",
    "import geopandas as gpd"
   ]
  },
  {
   "cell_type": "markdown",
   "id": "9a8d28e4-8a5b-4502-a4c9-6a4231d539f1",
   "metadata": {
    "tags": []
   },
   "source": [
    "### Section 0.2: Functions"
   ]
  },
  {
   "cell_type": "code",
   "execution_count": 33,
   "id": "61540e0e-9948-4b69-bbba-a55bd72e8578",
   "metadata": {},
   "outputs": [],
   "source": [
    "def water_exclusion(water_gdf,trees_gdf,buffersize):\n",
    "    '''Filters out points within a given proximity to water surfaces and returns a filtered dataframe.\n",
    "    \n",
    "    Uses a dataframe with water surfaces (e.g., from landuse data),\n",
    "    and a dataframe containing point data representing trees\n",
    "    as well as a buffersize as input.\n",
    "    '''\n",
    "    # Create a copy of the geodataframe to work with\n",
    "    water_buffer = water_gdf.copy()\n",
    "    # Buffer the existing geometry column.\n",
    "    water_buffer['geometry'] = water_buffer.buffer(buffersize)\n",
    "    # water_gdf_dissolved = water_gdf.dissolve()\n",
    "    trees_no_water = trees_gdf.overlay(water_buffer, how='difference')\n",
    "    print(f'The water filter removed {len(trees_gdf)-len(trees_no_water)} trees from the dataset which were less than {buffersize}m away from a water surface. There are {len(trees_no_water)} trees left.')\n",
    "    return trees_no_water\n",
    "\n",
    "def tree_exclusion(parks_gdf,tree_gdf,buffersize,tolerance):\n",
    "    '''TO-DO: Write documentation for function'''\n",
    "    # Create a copy of the geodataframe to work with\n",
    "    tree_buffer = tree_gdf.copy()\n",
    "    # Buffer the existing geometry column.\n",
    "    tree_buffer['geometry'] = tree_buffer.buffer(buffersize)\n",
    "\n",
    "    # Grab a single tree using the sample function\n",
    "    single_tree = tree_buffer.sample()\n",
    "    # Use that tree to store the area of the buffer polygon to filter the results later.\n",
    "    circle_area = float((single_tree.geometry.area * tolerance))\n",
    "\n",
    "    # Use the overlay function to calculate the intersection between tree_buffer and park polygons. \n",
    "    park_intersect = tree_buffer.overlay(parks_gdf, how='intersection')\n",
    "    # Calculate the area (in m2) that is left of each individual tree buffer after the intersection\n",
    "    park_intersect['buffer_area'] = park_intersect.geometry.area\n",
    "    \n",
    "    # See which of the trees is at least the buffersize away from the park boundaries (and thus other land use)\n",
    "    tree_selection = park_intersect.loc[park_intersect.buffer_area >= circle_area]\n",
    "    print(f'The tree filter removed {len(tree_gdf)-len(tree_selection)} trees from the dataset which were less than {buffersize}m away from a the park boundaries. There are {len(tree_selection)} trees left.')\n",
    "    return tree_selection\n",
    "\n",
    "def calculatetreecrownareainvariablebuffer(selection_gdf, tree_gdf, buffersize):\n",
    "    \"\"\"\n",
    "    Using the tree_selection dataset from before (trees away from other landuse), the dataset of all trees in parks, and a buffer size in meters as input, calculates the tree crown area in the buffer.\n",
    "    \n",
    "    Creates a buffer, then conducts spatial intersection using spatial index for candidates GeoDataFrame to make queries faster.\n",
    "    \n",
    "    Clips candidate geometries with buffer area, then computes additional variables in clip area\n",
    "    \n",
    "    Finally merges newly computed variables to the selection_gdf for return (adds columns to selection_df).\n",
    "    \"\"\"\n",
    "    # Creating the basic variables\n",
    "    source_sindex = selection_gdf.sindex\n",
    "    possible_matches_index = []\n",
    "    result = {}\n",
    "    \n",
    "    # Create a copy\n",
    "    \n",
    "    intersecting_gdf = selection_gdf.copy()\n",
    "\n",
    "    #Creating the buffers\n",
    "    intersecting_gdf['geometry'] = intersecting_gdf.buffer(buffersize)\n",
    "    \n",
    "    \n",
    "    # Create buffer from radius value in tree dataset\n",
    "    # tree_gdf['buffer'] = tree_gdf.buffer((tree_gdf['bm_crown_diameter']/2))\n",
    "    # tree_buffers = tree_gdf.loc[:,('uuid','buffer')]\n",
    "    # tree_buffers.rename(columns={'buffer':'geometry'}, inplace=True)\n",
    "    # tree_sindex = tree_buffers.sindex\n",
    "    \n",
    "    tree_buffers = tree_gdf.copy()\n",
    "    \n",
    "    tree_buffers['geometry'] = tree_buffers.buffer((tree_gdf['bm_crown_diameter']/2))\n",
    "    \n",
    "    tree_sindex = tree_buffers.sindex\n",
    "        \n",
    "    \n",
    "        # 'itertuples()' function is a faster version of 'iterrows()'\n",
    "    for other in tqdm(intersecting_gdf.itertuples(), total=intersecting_gdf.shape[0]):\n",
    "        treeid = other.rowid\n",
    "        bounds = other.geometry.bounds\n",
    "        boundaries = other.geometry\n",
    "        tree_area_list = []\n",
    "\n",
    "        # Get unique candidates\n",
    "        unique_candidate_matches = list(tree_sindex.intersection(bounds))\n",
    "        possible_matches = tree_buffers.iloc[unique_candidate_matches]\n",
    "\n",
    "        # Conduct the actual intersect\n",
    "        matches = possible_matches.loc[possible_matches.intersects(other.geometry)]\n",
    "        \n",
    "        \n",
    "        #matches = possible_matches.loc[possible_matches.intersects(intersecting_gdf.unary_union)]\n",
    "        \n",
    "        # Using the results of the intersect, clip the possible matches with the current iteration of boundaries from intersecting gdf. \n",
    "            \n",
    "        clip = matches.clip(boundaries)\n",
    "        \n",
    "        tree_area_list = clip.geometry.area\n",
    "        \n",
    "        tree_crown_area = sum(tree_area_list)\n",
    "        \n",
    "        # print(f'The area of the tree crowns is {tree_crown_area}')\n",
    "        \n",
    "        result[treeid] = tree_crown_area\n",
    "        \n",
    "    tree_crown_area_df = pd.DataFrame.from_dict(result, orient = 'index', columns=[f'tree_crown_area_{buffersize}m'])\n",
    "    \n",
    "    merged_df = pd.merge(selection_gdf, tree_crown_area_df, left_on='rowid', right_index=True)\n",
    "    \n",
    "    #merged_df = merged_df.drop(columns=['buffer'])\n",
    "    \n",
    "    # Grab a single tree using the sample function\n",
    "    single_tree = merged_df.sample()\n",
    "    \n",
    "    single_tree_buffer = single_tree.buffer(buffersize)\n",
    "    # Use that tree to store the area of the buffer polygon to filter the results later.\n",
    "    circle_area = float(single_tree_buffer.geometry.area)\n",
    "    \n",
    "    merged_df[f'perc_tree_cover_{buffersize}m'] = merged_df[f'tree_crown_area_{buffersize}m']/circle_area\n",
    "    \n",
    "    return merged_df\n",
    "                                                                                   \n",
    "\n",
    "# Taken straight from momepy, needed for orientation calculation\n",
    "def _azimuth(point1, point2):\n",
    "    \"\"\"azimuth between 2 shapely points (interval 0 - 180)\n",
    "    \n",
    "    Taken straight from momepy, to use in orientation function below:\n",
    "    \n",
    "    https://github.com/pysal/momepy/blob/f16598cddf2a82f1a865c7bebbe61ed53d074862/momepy/utils.py#L477\n",
    "    \"\"\"\n",
    "    angle = np.arctan2(point2[0] - point1[0], point2[1] - point1[1])\n",
    "    return np.degrees(angle) if angle > 0 else np.degrees(angle) + 180\n",
    "\n",
    "# Adapted from momepy to not show deviation from cardinal directions, but deviation from 0. .\n",
    "def orientation(gdf, verbose=True):\n",
    "    '''Calculate the orientation of object\n",
    "    \n",
    "    Captures the deviation of orientation in degrees (0-180).\n",
    "    Orientation of LineStrings is represented by the orientation of line\n",
    "    connecting first and last point of the segment.\n",
    "    \n",
    "    Adapted from momepy to not show deviation from cardinal directions \n",
    "    Source: https://github.com/pysal/momepy/blob/v0.5.4/momepy/distribution.py#L32-L96\n",
    "    \n",
    "    Also replaced geom.type with geom.geom_type to avoid futurewarning.\n",
    "    '''\n",
    "    #self.gdf = gdf\n",
    "    # define empty list for results\n",
    "    results_list = []\n",
    "\n",
    "    def _dist(a, b):\n",
    "        return math.hypot(b[0] - a[0], b[1] - a[1])\n",
    "\n",
    "    for geom in tqdm(gdf.geometry, total=gdf.shape[0], disable=not verbose):\n",
    "        if geom.geom_type in [\"Polygon\", \"MultiPolygon\", \"LinearRing\"]:\n",
    "            # TODO: vectorize once minimum_rotated_rectangle is in geopandas\n",
    "            bbox = list(geom.minimum_rotated_rectangle.exterior.coords)\n",
    "            axis1 = _dist(bbox[0], bbox[3])\n",
    "            axis2 = _dist(bbox[0], bbox[1])\n",
    "\n",
    "            if axis1 <= axis2:\n",
    "                az = _azimuth(bbox[0], bbox[1])\n",
    "            else:\n",
    "                az = _azimuth(bbox[0], bbox[3])\n",
    "        elif geom.geom_type in [\"LineString\", \"MultiLineString\"]:\n",
    "            coords = geom.coords\n",
    "            az = _azimuth(coords[0], coords[-1])\n",
    "        else:\n",
    "            results_list.append(np.nan)\n",
    "            continue\n",
    "\n",
    "        results_list.append(az)\n",
    "\n",
    "    # get a deviation from cardinal directions\n",
    "    #results = np.abs((np.array(results_list, dtype=float)))# + 45) % 90 - 45)\n",
    "    #results = np.abs(np.array(results_list, dtype=float))\n",
    "    results = np.array(results_list, dtype=float)\n",
    "    \n",
    "    return pd.Series(results, index=gdf.index)\n",
    "    #self.series = pd.Series(results, index=gdf.index)\n",
    "    \n",
    "def street_profile_nl(buildings_gdf, streets_gdf, study_areas_gdf):\n",
    "    '''\n",
    "    Calculates the street profile (width, openness, heights, w/h ratio) of roads in a dutch municipality. \n",
    "    Needs a dataframe containing roads, \n",
    "    a dataframe with building polygons (including height as a column), \n",
    "    and a dataframe containing the study area as input. \n",
    "    Saves the results in a dictionary of dataframes with the municipality name as key.\n",
    "    Care: the dictionary street_profiles needs to be created before calling the function. \n",
    "    '''\n",
    "    # Loop through the study_areas_gdf to get results for each of the cities individually\n",
    "    \n",
    "    for index, row in tqdm(study_areas_gdf.iterrows(), total=study_areas_gdf.shape[0]):\n",
    "        \n",
    "        # Grab the area name to use later\n",
    "        area_name = row['NAME_2']\n",
    "        \n",
    "        # 's-Gravenhage has a special character in the name which needs to be removed\n",
    "        if area_name == \"\\'s-Gravenhage\":\n",
    "            area_name = area_name[1:]\n",
    "            \n",
    "        print(f'Working on {area_name}')\n",
    "        print('----------------------------')\n",
    "        \n",
    "        # Clip the building dataset to only include the city we're working on\n",
    "        buildings = buildings_gdf.clip(row.geometry)\n",
    "        print(f'Step 1: Clipped buildings of {area_name}')\n",
    "        \n",
    "        # Clip the roads dataset to only include the city we're working on\n",
    "        roads = streets_gdf.clip(row.geometry)\n",
    "        print(f'Step 2: Clipped roads of {area_name}')\n",
    "\n",
    "        # Create a copy to avoid the settings with copy warning\n",
    "        edges = roads.copy()\n",
    "        \n",
    "        # To calculate street orientation and street profile the network has to be exploded to get rid of multi-geometries.\n",
    "        edges = edges.explode(index_parts=True)\n",
    "        \n",
    "        # Call the street profule function from momepy. The building footprints have got height information in the 'height_70p' column.\n",
    "        profile = momepy.StreetProfile(edges, buildings, heights='height_70p')\n",
    "        print(f'Step 3: Calculated street profile of {area_name}')\n",
    "\n",
    "        # Transfer the results of the StreetProfile function to the street dataframe.\n",
    "        edges['widths'] = profile.w\n",
    "        edges['width_deviations'] = profile.wd\n",
    "        edges['openness'] = profile.o\n",
    "        edges['heights'] = profile.h\n",
    "        edges['heights_deviations'] = profile.hd\n",
    "        edges['profile'] = profile.p\n",
    "        \n",
    "        # Calculate the orientation of each linestring using the customized momepy function.\n",
    "        edges['orientation'] = orientation(edges)\n",
    "        print(f'Step 4: Calculated street orientation of {area_name}')\n",
    "        \n",
    "        # Clean up the dataset and keep only the relevant columns\n",
    "        edges = edges[['STT_NAAM', 'GME_NAAM','widths', 'width_deviations', 'openness', 'heights', 'heights_deviations', 'profile', 'orientation', 'geometry']]\n",
    "        print('Cleaning up...')\n",
    "        \n",
    "        # Save the StreetProfile of the current city in the street_profiles dictionary using the city name as key and dataframe as values.\n",
    "        street_profiles[area_name] = edges\n",
    "        print(f'Step 5: Stored street profile values in \\'street_profiles[{area_name}]\\'.')\n",
    "        print('----------------------------')\n",
    "    print('MISSION SUCCESS - END')\n",
    "\n",
    "\n",
    "def floorspaceindexinbuffer(study_areas_gdf, tree_dict, buildings_gdf, buffersize):\n",
    "    '''\n",
    "    Calculates the Floor Space Index in a given buffer area.\n",
    "    \n",
    "    Takes a dataframe containing municipalities of the Netherlands (study_areas_gdf),\n",
    "    A dictionary containing trees for the respective municipalities (tree_dict)\n",
    "    As well as a dataframe containing building polygons in all study_areas (buildings_gdf)\n",
    "    And finally a buffersize in m.\n",
    "    \n",
    "    Loops through all study areas,\n",
    "    clips buildings\n",
    "    extracts tree dataframe\n",
    "    calculates number of floors\n",
    "    calculates FSI for each tree.\n",
    "    \n",
    "    Saves the results in the trees_canyons_dict dictionary of dataframes with the municipality name as key.\n",
    "    '''\n",
    "    for index, row in tqdm(study_areas_gdf.iterrows(), total=study_areas_gdf.shape[0]):\n",
    "        area_name = row['NAME_2']\n",
    "        if area_name == \"\\'s-Gravenhage\":\n",
    "            area_name = area_name[1:]\n",
    "        print(f'Working on {area_name}')\n",
    "        print('----------------------------')\n",
    "        buildings = buildings_gdf.clip(row.geometry)\n",
    "        print(f'Step 1: Clipped buildings of {area_name}')\n",
    "        trees = tree_dict[f'{area_name}']\n",
    "        print(f'Step 2: Extracted trees of {area_name} from the dictionary')\n",
    "    \n",
    "        # Creating the basic variables\n",
    "        buildings_sindex = buildings.sindex\n",
    "        possible_matches_index = []\n",
    "        result = {}\n",
    "        print(f'Step 3: Created spatial index for {area_name} buildings')\n",
    "\n",
    "        # Calculate the number of floors (rudimentary method - originally with 2.65, now with 3.15, confirm with Daniela)\n",
    "        buildings['no_floors'] = np.floor((buildings['height_70p'] / 3.15))\n",
    "\n",
    "        # Rounding down causes small buildings to be assigned 0 floors. This is to assure every building has got at least 1 floor.\n",
    "        buildings.loc[buildings['no_floors'] < 1, 'no_floors'] = 1\n",
    "        \n",
    "        print('Step 4: Calculated number of floors and cleaned the dataset')\n",
    "\n",
    "        # Create a copy of the tree dataset\n",
    "        intersecting_gdf = trees.copy()\n",
    "\n",
    "        #Creating the buffers\n",
    "        intersecting_gdf['geometry'] = intersecting_gdf.buffer(buffersize)\n",
    "\n",
    "        print('Step 5: For each tree, calculate FSI')\n",
    "        for tree_buffer in tqdm(intersecting_gdf.itertuples(), total=intersecting_gdf.shape[0]):\n",
    "            treeid = tree_buffer.rowid\n",
    "            bounds = tree_buffer.geometry.bounds\n",
    "            boundaries = tree_buffer.geometry\n",
    "            floor_space_list = {}\n",
    "\n",
    "\n",
    "            # Get unique candidates\n",
    "            unique_candidate_matches = list(buildings_sindex.intersection(bounds))\n",
    "            possible_matches = buildings.iloc[unique_candidate_matches]\n",
    "\n",
    "            # Conduct the actual intersect\n",
    "            matches = possible_matches.loc[possible_matches.intersects(tree_buffer.geometry)]\n",
    "\n",
    "\n",
    "            #matches = possible_matches.loc[possible_matches.intersects(intersecting_gdf.unary_union)]\n",
    "\n",
    "            # Using the results of the intersect, clip the possible matches with the current iteration of boundaries from intersecting gdf. \n",
    "\n",
    "            clip = matches.clip(boundaries)\n",
    "\n",
    "\n",
    "            # Use a for loop to iterate through all buildings inside the clipped dataframe\n",
    "\n",
    "            for index, row in clip.iterrows():\n",
    "\n",
    "                # calculate floor space with no of floors and geometry area of each clip element\n",
    "                floor_space = row.geometry.area * row['no_floors']\n",
    "\n",
    "                # Saving the floor space index for each individual building in the clip area in the floor_space_list\n",
    "                floor_space_list[row['gid']] = floor_space        \n",
    "\n",
    "            # After iterating through all of the buildings in the clip, calculate the Floor Space Index in the buffer area. For this we take the floor space area of all buildings and divide it by the area of the buffer\n",
    "\n",
    "            fsi_context = sum(floor_space_list.values()) / tree_buffer.geometry.area\n",
    "\n",
    "            #Build the results dictionary with tree id and FSI in buffer\n",
    "            result[treeid] = fsi_context\n",
    "\n",
    "        #Convert dictionary into dataframe, making the id into the index and naming the column for avg_blg_height\n",
    "        floor_space_buffer = pd.DataFrame.from_dict(result, orient = 'index', columns=[f'FSI_{buffersize}m'])\n",
    "        print('Step 6: Add FSI column to the input dictionary')\n",
    "        trees_canyons_dict[area_name] = pd.merge(trees, floor_space_buffer, left_on='rowid', right_index=True)\n",
    "        print('-------')\n",
    "    print('MISSION SUCCESS - END')\n",
    "    \n",
    "def groundspaceindexinbuffer_parks(study_areas_gdf, tree_dict, buildings_gdf, buffersize):\n",
    "    '''\n",
    "    Calculates the Ground Space Index in a given buffer area - for the trees in parks\n",
    "    \n",
    "    GSI is herein defined as building footprint/ buffer area calculated with radius x from the centroid of each tree.\n",
    "    \n",
    "    Takes a dataframe containing municipalities of the Netherlands (study_areas_gdf),\n",
    "    A dictionary containing trees for the respective municipalities (tree_dict)\n",
    "    As well as a dataframe containing building polygons in all study_areas (buildings_gdf)\n",
    "    And finally a buffersize in m.\n",
    "    \n",
    "    Loops through all study areas,\n",
    "    clips buildings\n",
    "    extracts tree dataframe\n",
    "    creates buffer around trees with buffersize as radius\n",
    "    calculates GSI for each tree using the buffered dataframe.\n",
    "    \n",
    "    Saves the results in the trees_in_parks_dict dictionary of dataframes with the municipality name as key.\n",
    "    '''\n",
    "    for index, row in tqdm(study_areas_gdf.iterrows(), total=study_areas_gdf.shape[0]):\n",
    "        area_name = row['NAME_2']\n",
    "        if area_name == \"\\'s-Gravenhage\":\n",
    "            area_name = area_name[1:]\n",
    "        print(f'Working on {area_name}')\n",
    "        print('----------------------------')\n",
    "        buildings = buildings_gdf.clip(row.geometry)\n",
    "        print(f'Step 1: Clipped buildings of {area_name}')\n",
    "        trees = tree_dict[f'{area_name}']\n",
    "        print(f'Step 2: Extracted trees of {area_name} from the dictionary')\n",
    "    \n",
    "    \n",
    "        # Creating the basic variables\n",
    "        buildings_sindex = buildings.sindex\n",
    "        possible_matches_index = []\n",
    "        result = {}\n",
    "        print(f'Step 3: Created spatial index for {area_name} buildings')\n",
    "\n",
    "        # Create a copy of the tree dataset\n",
    "        intersecting_gdf = trees.copy()\n",
    "\n",
    "        #Creating the buffers\n",
    "        intersecting_gdf['geometry'] = intersecting_gdf.buffer(buffersize)\n",
    "\n",
    "        print('Step 5: For each tree, calculate GSI')\n",
    "        for tree_buffer in tqdm(intersecting_gdf.itertuples(), total=intersecting_gdf.shape[0]):\n",
    "            treeid = tree_buffer.rowid\n",
    "            bounds = tree_buffer.geometry.bounds\n",
    "            boundaries = tree_buffer.geometry\n",
    "            # building_list = []\n",
    "\n",
    "\n",
    "            # Get unique candidates\n",
    "            unique_candidate_matches = list(buildings_sindex.intersection(bounds))\n",
    "            possible_matches = buildings.iloc[unique_candidate_matches]\n",
    "\n",
    "            # Conduct the actual intersect\n",
    "            matches = possible_matches.loc[possible_matches.intersects(tree_buffer.geometry)]\n",
    "\n",
    "\n",
    "            #matches = possible_matches.loc[possible_matches.intersects(intersecting_gdf.unary_union)]\n",
    "\n",
    "            # Using the results of the intersect, clip the possible matches with the current iteration of boundaries from intersecting gdf. \n",
    "\n",
    "            clip = matches.clip(boundaries)\n",
    "            \n",
    "            clip['Area'] = clip.geometry.area\n",
    "        \n",
    "            #Calculate the amount of \"free\" space (without buildings). Taking the area of the current buffer and subtracting the are of other buildings\n",
    "            #other.geometry.area is the area of the buffer which is subtracted by the geometry (footprint) area of all of the buildings that are in the buffer)\n",
    "            building_footprint_area = clip['Area'].sum()\n",
    "\n",
    "            if building_footprint_area != 0:\n",
    "                gsi = building_footprint_area / tree_buffer.geometry.area\n",
    "            else:\n",
    "                gsi = 0        \n",
    "\n",
    "            #Build the results dictionary with tree id and FSI in buffer\n",
    "            result[treeid] = gsi\n",
    "\n",
    "        #Convert dictionary into dataframe, making the id into the index and naming the column for avg_blg_height\n",
    "        ground_space_buffer = pd.DataFrame.from_dict(result, orient = 'index', columns=[f'GSI_{buffersize}m'])\n",
    "        print('Step 6: Add GSI column to the input dictionary')\n",
    "        trees_in_parks_dict[area_name] = pd.merge(trees, ground_space_buffer, left_on='rowid', right_index=True)\n",
    "        print('-------')\n",
    "    print('MISSION SUCCESS - END')\n",
    "\n",
    "def groundspaceindexinbuffer(study_areas_gdf, tree_dict, buildings_gdf, buffersize):\n",
    "    '''\n",
    "    Calculates the Ground Space Index in a given buffer area\n",
    "    \n",
    "    GSI is herein defined as building footprint/ buffer area calculated with radius x from the centroid of each tree.\n",
    "    \n",
    "    Takes a dataframe containing municipalities of the Netherlands (study_areas_gdf),\n",
    "    A dictionary containing trees for the respective municipalities (tree_dict)\n",
    "    As well as a dataframe containing building polygons in all study_areas (buildings_gdf)\n",
    "    And finally a buffersize in m.\n",
    "    \n",
    "    Loops through all study areas,\n",
    "    clips buildings\n",
    "    extracts tree dataframe\n",
    "    creates buffer around trees with buffersize as radius\n",
    "    calculates GSI for each tree using the buffered dataframe.\n",
    "    \n",
    "     Saves the results in the trees_canyons_dict dictionary of dataframes with the municipality name as key.\n",
    "    '''\n",
    "    for index, row in tqdm(study_areas_gdf.iterrows(), total=study_areas_gdf.shape[0]):\n",
    "        area_name = row['NAME_2']\n",
    "        if area_name == \"\\'s-Gravenhage\":\n",
    "            area_name = area_name[1:]\n",
    "        print(f'Working on {area_name}')\n",
    "        print('----------------------------')\n",
    "        buildings = buildings_gdf.clip(row.geometry)\n",
    "        print(f'Step 1: Clipped buildings of {area_name}')\n",
    "        trees = tree_dict[f'{area_name}']\n",
    "        print(f'Step 2: Extracted trees of {area_name} from the dictionary')\n",
    "    \n",
    "    \n",
    "        # Creating the basic variables\n",
    "        buildings_sindex = buildings.sindex\n",
    "        possible_matches_index = []\n",
    "        result = {}\n",
    "        print(f'Step 3: Created spatial index for {area_name} buildings')\n",
    "\n",
    "        # Create a copy of the tree dataset\n",
    "        intersecting_gdf = trees.copy()\n",
    "\n",
    "        #Creating the buffers\n",
    "        intersecting_gdf['geometry'] = intersecting_gdf.buffer(buffersize)\n",
    "\n",
    "        print('Step 5: For each tree, calculate GSI')\n",
    "        for tree_buffer in tqdm(intersecting_gdf.itertuples(), total=intersecting_gdf.shape[0]):\n",
    "            treeid = tree_buffer.rowid\n",
    "            bounds = tree_buffer.geometry.bounds\n",
    "            boundaries = tree_buffer.geometry\n",
    "            # building_list = []\n",
    "\n",
    "\n",
    "            # Get unique candidates\n",
    "            unique_candidate_matches = list(buildings_sindex.intersection(bounds))\n",
    "            possible_matches = buildings.iloc[unique_candidate_matches]\n",
    "\n",
    "            # Conduct the actual intersect\n",
    "            matches = possible_matches.loc[possible_matches.intersects(tree_buffer.geometry)]\n",
    "\n",
    "\n",
    "            #matches = possible_matches.loc[possible_matches.intersects(intersecting_gdf.unary_union)]\n",
    "\n",
    "            # Using the results of the intersect, clip the possible matches with the current iteration of boundaries from intersecting gdf. \n",
    "\n",
    "            clip = matches.clip(boundaries)\n",
    "            \n",
    "            clip['Area'] = clip.geometry.area\n",
    "        \n",
    "            #Calculate the amount of \"free\" space (without buildings). Taking the area of the current buffer and subtracting the are of other buildings\n",
    "            #other.geometry.area is the area of the buffer which is subtracted by the geometry (footprint) area of all of the buildings that are in the buffer)\n",
    "            building_footprint_area = clip['Area'].sum()\n",
    "\n",
    "            if building_footprint_area != 0:\n",
    "                gsi = building_footprint_area / tree_buffer.geometry.area\n",
    "            else:\n",
    "                gsi = 0        \n",
    "\n",
    "            #Build the results dictionary with tree id and FSI in buffer\n",
    "            result[treeid] = gsi\n",
    "\n",
    "        #Convert dictionary into dataframe, making the id into the index and naming the column for avg_blg_height\n",
    "        ground_space_buffer = pd.DataFrame.from_dict(result, orient = 'index', columns=[f'GSI_{buffersize}m'])\n",
    "        print('Step 6: Add GSI column to the input dictionary')\n",
    "        trees_canyons_dict[area_name] = pd.merge(trees, ground_space_buffer, left_on='rowid', right_index=True)\n",
    "        print('-------')\n",
    "    print('MISSION SUCCESS - END')"
   ]
  },
  {
   "cell_type": "markdown",
   "id": "2d4e6494-bdb9-4ead-84f6-99d7ec09d0ad",
   "metadata": {
    "tags": []
   },
   "source": [
    "## Section 1: Importing and cleaning tree dataset\n",
    "\n",
    "__Don't need to do this in the final version, will receive a already filtered dataset__\n"
   ]
  },
  {
   "cell_type": "code",
   "execution_count": 4,
   "id": "15bd541a-ee54-46b8-9968-b749b604f849",
   "metadata": {},
   "outputs": [
    {
     "name": "stdout",
     "output_type": "stream",
     "text": [
      "The following cities are included in the dataset ['Rotterdam' 'Utrecht' 'Den Haag' 'Groningen' 'Heerhugowaard' 'Amsterdam'\n",
      " 'Hendrik-Ido-Ambacht' 'Dordrecht']\n"
     ]
    },
    {
     "data": {
      "text/html": [
       "<div>\n",
       "<style scoped>\n",
       "    .dataframe tbody tr th:only-of-type {\n",
       "        vertical-align: middle;\n",
       "    }\n",
       "\n",
       "    .dataframe tbody tr th {\n",
       "        vertical-align: top;\n",
       "    }\n",
       "\n",
       "    .dataframe thead th {\n",
       "        text-align: right;\n",
       "    }\n",
       "</style>\n",
       "<table border=\"1\" class=\"dataframe\">\n",
       "  <thead>\n",
       "    <tr style=\"text-align: right;\">\n",
       "      <th></th>\n",
       "      <th>rowid</th>\n",
       "      <th>uuid</th>\n",
       "      <th>bron</th>\n",
       "      <th>tree_name</th>\n",
       "      <th>tree_intid</th>\n",
       "      <th>genus</th>\n",
       "      <th>species</th>\n",
       "      <th>cv</th>\n",
       "      <th>bm_treeheight</th>\n",
       "      <th>bm_crown_diameter</th>\n",
       "      <th>geometry</th>\n",
       "    </tr>\n",
       "  </thead>\n",
       "  <tbody>\n",
       "    <tr>\n",
       "      <th>0</th>\n",
       "      <td>1</td>\n",
       "      <td>00000a59-0b14-4fd4-8e1c-ac924d8cc9b8</td>\n",
       "      <td>Rotterdam</td>\n",
       "      <td>Aesculus hippocastanum</td>\n",
       "      <td>194</td>\n",
       "      <td>Aesculus</td>\n",
       "      <td>hippocastanum</td>\n",
       "      <td>None</td>\n",
       "      <td>25.4</td>\n",
       "      <td>11.1</td>\n",
       "      <td>POINT (87670.050 440949.360)</td>\n",
       "    </tr>\n",
       "    <tr>\n",
       "      <th>1</th>\n",
       "      <td>2</td>\n",
       "      <td>00000cdf-33b9-431c-84d8-be5d4cf8df87</td>\n",
       "      <td>Utrecht</td>\n",
       "      <td>Catalpa bignonioides 'Nana'</td>\n",
       "      <td>349</td>\n",
       "      <td>Catalpa</td>\n",
       "      <td>bignonioides</td>\n",
       "      <td>Nana</td>\n",
       "      <td>3.0</td>\n",
       "      <td>2.0</td>\n",
       "      <td>POINT (137578.786 458618.712)</td>\n",
       "    </tr>\n",
       "    <tr>\n",
       "      <th>2</th>\n",
       "      <td>3</td>\n",
       "      <td>00003c8e-3f16-400d-acdc-a07705c0d22a</td>\n",
       "      <td>Den Haag</td>\n",
       "      <td>Corylus colurna 'VDB Obelisk'</td>\n",
       "      <td>477</td>\n",
       "      <td>Corylus</td>\n",
       "      <td>colurna</td>\n",
       "      <td>VDB Obelisk</td>\n",
       "      <td>3.0</td>\n",
       "      <td>2.0</td>\n",
       "      <td>POINT (78722.829 452904.528)</td>\n",
       "    </tr>\n",
       "    <tr>\n",
       "      <th>3</th>\n",
       "      <td>4</td>\n",
       "      <td>000042b4-7bee-4999-8513-8d152afd7c43</td>\n",
       "      <td>Groningen</td>\n",
       "      <td>Salix alba</td>\n",
       "      <td>1641</td>\n",
       "      <td>Salix</td>\n",
       "      <td>alba</td>\n",
       "      <td>None</td>\n",
       "      <td>30.9</td>\n",
       "      <td>11.5</td>\n",
       "      <td>POINT (231367.398 583660.647)</td>\n",
       "    </tr>\n",
       "    <tr>\n",
       "      <th>4</th>\n",
       "      <td>5</td>\n",
       "      <td>00004913-6b0b-4491-8559-1a9d9443ff77</td>\n",
       "      <td>Rotterdam</td>\n",
       "      <td>Styphnolobium japonicum</td>\n",
       "      <td>1768</td>\n",
       "      <td>Styphnolobium</td>\n",
       "      <td>japonicum</td>\n",
       "      <td>None</td>\n",
       "      <td>13.5</td>\n",
       "      <td>9.8</td>\n",
       "      <td>POINT (90530.430 436378.670)</td>\n",
       "    </tr>\n",
       "  </tbody>\n",
       "</table>\n",
       "</div>"
      ],
      "text/plain": [
       "   rowid                                  uuid       bron  \\\n",
       "0      1  00000a59-0b14-4fd4-8e1c-ac924d8cc9b8  Rotterdam   \n",
       "1      2  00000cdf-33b9-431c-84d8-be5d4cf8df87    Utrecht   \n",
       "2      3  00003c8e-3f16-400d-acdc-a07705c0d22a   Den Haag   \n",
       "3      4  000042b4-7bee-4999-8513-8d152afd7c43  Groningen   \n",
       "4      5  00004913-6b0b-4491-8559-1a9d9443ff77  Rotterdam   \n",
       "\n",
       "                       tree_name  tree_intid          genus        species  \\\n",
       "0         Aesculus hippocastanum         194       Aesculus  hippocastanum   \n",
       "1    Catalpa bignonioides 'Nana'         349        Catalpa   bignonioides   \n",
       "2  Corylus colurna 'VDB Obelisk'         477        Corylus        colurna   \n",
       "3                     Salix alba        1641          Salix           alba   \n",
       "4        Styphnolobium japonicum        1768  Styphnolobium      japonicum   \n",
       "\n",
       "            cv  bm_treeheight  bm_crown_diameter  \\\n",
       "0         None           25.4               11.1   \n",
       "1         Nana            3.0                2.0   \n",
       "2  VDB Obelisk            3.0                2.0   \n",
       "3         None           30.9               11.5   \n",
       "4         None           13.5                9.8   \n",
       "\n",
       "                        geometry  \n",
       "0   POINT (87670.050 440949.360)  \n",
       "1  POINT (137578.786 458618.712)  \n",
       "2   POINT (78722.829 452904.528)  \n",
       "3  POINT (231367.398 583660.647)  \n",
       "4   POINT (90530.430 436378.670)  "
      ]
     },
     "execution_count": 4,
     "metadata": {},
     "output_type": "execute_result"
    }
   ],
   "source": [
    "# Read gpk\n",
    "all_trees = gpd.read_file('../data/raw_data/trees/trees_11112022.gpkg')\n",
    "\n",
    "# Checking which cities are included.\n",
    "print(f'The following cities are included in the dataset {all_trees.bron.unique()}')\n",
    "\n",
    "# Show contents\n",
    "all_trees.head()"
   ]
  },
  {
   "cell_type": "code",
   "execution_count": 4,
   "id": "0e96f327-c1b1-4933-be14-0472884ad611",
   "metadata": {},
   "outputs": [
    {
     "data": {
      "text/plain": [
       "<Derived Projected CRS: EPSG:28992>\n",
       "Name: Amersfoort / RD New\n",
       "Axis Info [cartesian]:\n",
       "- X[east]: Easting (metre)\n",
       "- Y[north]: Northing (metre)\n",
       "Area of Use:\n",
       "- name: Netherlands - onshore, including Waddenzee, Dutch Wadden Islands and 12-mile offshore coastal zone.\n",
       "- bounds: (3.2, 50.75, 7.22, 53.7)\n",
       "Coordinate Operation:\n",
       "- name: RD New\n",
       "- method: Oblique Stereographic\n",
       "Datum: Amersfoort\n",
       "- Ellipsoid: Bessel 1841\n",
       "- Prime Meridian: Greenwich"
      ]
     },
     "execution_count": 4,
     "metadata": {},
     "output_type": "execute_result"
    }
   ],
   "source": [
    "# Show crs of dataframe to confirm whether any transformations are necessary\n",
    "all_trees.crs"
   ]
  },
  {
   "cell_type": "markdown",
   "id": "b0d75c02-7a55-44da-9036-9cb3385623bc",
   "metadata": {},
   "source": [
    "### 1.1: Filter only necessary tree species\n",
    "\n",
    "The tree species in question are the following:\n",
    "- Platanus x hispanica\n",
    "- Tilia x europaea\n",
    "- Ulmus x hollandica"
   ]
  },
  {
   "cell_type": "code",
   "execution_count": 5,
   "id": "fa3780eb-4634-4a04-9bc5-c6c0f5d19875",
   "metadata": {},
   "outputs": [
    {
     "name": "stdout",
     "output_type": "stream",
     "text": [
      "The total number of trees of the three selected species is: 133691\n",
      "-----------------\n",
      "This is divided into the following; Platanus: 45226, Tilia: 56250, Ulmus: 32215\n"
     ]
    }
   ],
   "source": [
    "# Create a separate dataframe for each of the species in question and see how many there are \n",
    "platanus = all_trees.loc[(all_trees[\"genus\"] == \"Platanus\") & (all_trees[\"species\"] == \"hispanica\")]\n",
    "\n",
    "tilia = all_trees.loc[(all_trees[\"genus\"] == \"Tilia\") & (all_trees[\"species\"] == \"europaea\")]\n",
    "\n",
    "ulmus = all_trees.loc[(all_trees[\"genus\"] == \"Ulmus\") & (all_trees[\"species\"] == \"hollandica\")]\n",
    "\n",
    "# Combine them into a single dataframe\n",
    "species = [platanus, tilia, ulmus]\n",
    "study_trees = pd.concat(species)\n",
    "\n",
    "# Calculate the combined length of all species dataframes to get to the final figure\n",
    "print(f'The total number of trees of the three selected species is: {len(study_trees)}')\n",
    "print('-----------------')\n",
    "print(f'This is divided into the following; Platanus: {len(platanus)}, Tilia: {len(tilia)}, Ulmus: {len(ulmus)}')"
   ]
  },
  {
   "cell_type": "markdown",
   "id": "e44ac66d-61bc-4908-88d4-30f299219714",
   "metadata": {
    "jp-MarkdownHeadingCollapsed": true,
    "tags": []
   },
   "source": [
    "#### 1.1.1 Number of trees per species per city"
   ]
  },
  {
   "cell_type": "code",
   "execution_count": 16,
   "id": "b2f27189-15ca-4a9a-a6aa-6083138c4e16",
   "metadata": {},
   "outputs": [
    {
     "name": "stdout",
     "output_type": "stream",
     "text": [
      "Tilia       56250\n",
      "Platanus    45226\n",
      "Ulmus       32215\n",
      "Name: genus, dtype: int64\n"
     ]
    }
   ],
   "source": [
    "tree_observations = study_trees[\"genus\"].value_counts()\n",
    "print(tree_observations)"
   ]
  },
  {
   "cell_type": "code",
   "execution_count": 18,
   "id": "905f9c7c-e1a3-4bcd-954e-bd05e8c9f91e",
   "metadata": {},
   "outputs": [
    {
     "data": {
      "text/html": [
       "<div>\n",
       "<style scoped>\n",
       "    .dataframe tbody tr th:only-of-type {\n",
       "        vertical-align: middle;\n",
       "    }\n",
       "\n",
       "    .dataframe tbody tr th {\n",
       "        vertical-align: top;\n",
       "    }\n",
       "\n",
       "    .dataframe thead th {\n",
       "        text-align: right;\n",
       "    }\n",
       "</style>\n",
       "<table border=\"1\" class=\"dataframe\">\n",
       "  <thead>\n",
       "    <tr style=\"text-align: right;\">\n",
       "      <th></th>\n",
       "      <th>bron</th>\n",
       "      <th>genus</th>\n",
       "      <th>Times</th>\n",
       "    </tr>\n",
       "  </thead>\n",
       "  <tbody>\n",
       "    <tr>\n",
       "      <th>0</th>\n",
       "      <td>Amsterdam</td>\n",
       "      <td>Platanus</td>\n",
       "      <td>15099</td>\n",
       "    </tr>\n",
       "    <tr>\n",
       "      <th>1</th>\n",
       "      <td>Amsterdam</td>\n",
       "      <td>Tilia</td>\n",
       "      <td>14831</td>\n",
       "    </tr>\n",
       "    <tr>\n",
       "      <th>2</th>\n",
       "      <td>Amsterdam</td>\n",
       "      <td>Ulmus</td>\n",
       "      <td>13669</td>\n",
       "    </tr>\n",
       "    <tr>\n",
       "      <th>3</th>\n",
       "      <td>Den Haag</td>\n",
       "      <td>Platanus</td>\n",
       "      <td>4108</td>\n",
       "    </tr>\n",
       "    <tr>\n",
       "      <th>4</th>\n",
       "      <td>Den Haag</td>\n",
       "      <td>Tilia</td>\n",
       "      <td>10033</td>\n",
       "    </tr>\n",
       "    <tr>\n",
       "      <th>5</th>\n",
       "      <td>Den Haag</td>\n",
       "      <td>Ulmus</td>\n",
       "      <td>5671</td>\n",
       "    </tr>\n",
       "    <tr>\n",
       "      <th>6</th>\n",
       "      <td>Dordrecht</td>\n",
       "      <td>Platanus</td>\n",
       "      <td>2872</td>\n",
       "    </tr>\n",
       "    <tr>\n",
       "      <th>7</th>\n",
       "      <td>Dordrecht</td>\n",
       "      <td>Tilia</td>\n",
       "      <td>2174</td>\n",
       "    </tr>\n",
       "    <tr>\n",
       "      <th>8</th>\n",
       "      <td>Dordrecht</td>\n",
       "      <td>Ulmus</td>\n",
       "      <td>415</td>\n",
       "    </tr>\n",
       "    <tr>\n",
       "      <th>9</th>\n",
       "      <td>Groningen</td>\n",
       "      <td>Platanus</td>\n",
       "      <td>2625</td>\n",
       "    </tr>\n",
       "    <tr>\n",
       "      <th>10</th>\n",
       "      <td>Groningen</td>\n",
       "      <td>Tilia</td>\n",
       "      <td>8306</td>\n",
       "    </tr>\n",
       "    <tr>\n",
       "      <th>11</th>\n",
       "      <td>Groningen</td>\n",
       "      <td>Ulmus</td>\n",
       "      <td>2016</td>\n",
       "    </tr>\n",
       "    <tr>\n",
       "      <th>12</th>\n",
       "      <td>Heerhugowaard</td>\n",
       "      <td>Platanus</td>\n",
       "      <td>1137</td>\n",
       "    </tr>\n",
       "    <tr>\n",
       "      <th>13</th>\n",
       "      <td>Heerhugowaard</td>\n",
       "      <td>Tilia</td>\n",
       "      <td>645</td>\n",
       "    </tr>\n",
       "    <tr>\n",
       "      <th>14</th>\n",
       "      <td>Heerhugowaard</td>\n",
       "      <td>Ulmus</td>\n",
       "      <td>1199</td>\n",
       "    </tr>\n",
       "    <tr>\n",
       "      <th>15</th>\n",
       "      <td>Hendrik-Ido-Ambacht</td>\n",
       "      <td>Platanus</td>\n",
       "      <td>425</td>\n",
       "    </tr>\n",
       "    <tr>\n",
       "      <th>16</th>\n",
       "      <td>Hendrik-Ido-Ambacht</td>\n",
       "      <td>Tilia</td>\n",
       "      <td>308</td>\n",
       "    </tr>\n",
       "    <tr>\n",
       "      <th>17</th>\n",
       "      <td>Hendrik-Ido-Ambacht</td>\n",
       "      <td>Ulmus</td>\n",
       "      <td>131</td>\n",
       "    </tr>\n",
       "    <tr>\n",
       "      <th>18</th>\n",
       "      <td>Rotterdam</td>\n",
       "      <td>Platanus</td>\n",
       "      <td>12782</td>\n",
       "    </tr>\n",
       "    <tr>\n",
       "      <th>19</th>\n",
       "      <td>Rotterdam</td>\n",
       "      <td>Tilia</td>\n",
       "      <td>10289</td>\n",
       "    </tr>\n",
       "    <tr>\n",
       "      <th>20</th>\n",
       "      <td>Rotterdam</td>\n",
       "      <td>Ulmus</td>\n",
       "      <td>2770</td>\n",
       "    </tr>\n",
       "    <tr>\n",
       "      <th>21</th>\n",
       "      <td>Utrecht</td>\n",
       "      <td>Platanus</td>\n",
       "      <td>6178</td>\n",
       "    </tr>\n",
       "    <tr>\n",
       "      <th>22</th>\n",
       "      <td>Utrecht</td>\n",
       "      <td>Tilia</td>\n",
       "      <td>9664</td>\n",
       "    </tr>\n",
       "    <tr>\n",
       "      <th>23</th>\n",
       "      <td>Utrecht</td>\n",
       "      <td>Ulmus</td>\n",
       "      <td>6344</td>\n",
       "    </tr>\n",
       "  </tbody>\n",
       "</table>\n",
       "</div>"
      ],
      "text/plain": [
       "                   bron     genus  Times\n",
       "0             Amsterdam  Platanus  15099\n",
       "1             Amsterdam     Tilia  14831\n",
       "2             Amsterdam     Ulmus  13669\n",
       "3              Den Haag  Platanus   4108\n",
       "4              Den Haag     Tilia  10033\n",
       "5              Den Haag     Ulmus   5671\n",
       "6             Dordrecht  Platanus   2872\n",
       "7             Dordrecht     Tilia   2174\n",
       "8             Dordrecht     Ulmus    415\n",
       "9             Groningen  Platanus   2625\n",
       "10            Groningen     Tilia   8306\n",
       "11            Groningen     Ulmus   2016\n",
       "12        Heerhugowaard  Platanus   1137\n",
       "13        Heerhugowaard     Tilia    645\n",
       "14        Heerhugowaard     Ulmus   1199\n",
       "15  Hendrik-Ido-Ambacht  Platanus    425\n",
       "16  Hendrik-Ido-Ambacht     Tilia    308\n",
       "17  Hendrik-Ido-Ambacht     Ulmus    131\n",
       "18            Rotterdam  Platanus  12782\n",
       "19            Rotterdam     Tilia  10289\n",
       "20            Rotterdam     Ulmus   2770\n",
       "21              Utrecht  Platanus   6178\n",
       "22              Utrecht     Tilia   9664\n",
       "23              Utrecht     Ulmus   6344"
      ]
     },
     "execution_count": 18,
     "metadata": {},
     "output_type": "execute_result"
    }
   ],
   "source": [
    "# Get a dataframe with the number of observations per genus per city.\n",
    "\n",
    "obs = study_trees.groupby([\"bron\", \"genus\"]).size().reset_index(name=\"Times\")\n",
    "\n",
    "# They are object type, so change type to string to further work with them\n",
    "\n",
    "obs['bron'] = obs['bron'].astype(\"string\")\n",
    "obs['genus'] = obs['genus'].astype(\"string\")\n",
    "\n",
    "obs"
   ]
  },
  {
   "cell_type": "markdown",
   "id": "021c19e0-8cd0-4d3a-bda6-67f7a3a0aaa7",
   "metadata": {
    "tags": []
   },
   "source": [
    "## Section 2: Tree selection protocol\n",
    "\n",
    "The first task is to remove all trees that are in proximity to water surfaces.\n",
    "\n",
    "Then we need to split the tree dataset into two:\n",
    "- Trees in parks\n",
    "- Trees in street canyons (only E-W direction)\n",
    "\n",
    "for that we need the national landuse dataset which is available via WFS or download for the whole country."
   ]
  },
  {
   "cell_type": "markdown",
   "id": "24fff98e-a68f-4b28-8742-7be0facef7d4",
   "metadata": {
    "tags": []
   },
   "source": [
    "#### 2.0.1 Get Study Area boundaries:\n",
    "\n",
    "We're working with large datasets (landuse) and don't need all of it. To filter the dataset we add the study area boundaries."
   ]
  },
  {
   "cell_type": "code",
   "execution_count": 6,
   "id": "f134009d-1f4c-422c-b922-9063e76c79cb",
   "metadata": {},
   "outputs": [
    {
     "name": "stdout",
     "output_type": "stream",
     "text": [
      "To confirm that this worked: We're left with the following cities ['Groningen', 'Amsterdam', 'Heerhugowaard', 'Utrecht', \"'s-Gravenhage\", 'Dordrecht', 'Hendrik-Ido-Ambacht', 'Rotterdam']\n"
     ]
    }
   ],
   "source": [
    "#Load study area extent - both Rdam and AMS\n",
    "admin_area = gpd.read_file('../data/raw_data/admin_area/gadm41_NLD_2.json').to_crs(28992)\n",
    "\n",
    "# Create a list containing the placenames as they are in the dataset.\n",
    "# Den Haag is 's-Gravenhage' in the NL admin area dataset. Den Haag is the 'modern' abbreviation.\n",
    "places_list = ['Rotterdam', 'Utrecht', '\\'s-Gravenhage', 'Groningen', 'Heerhugowaard',\n",
    "       'Amsterdam', 'Hendrik-Ido-Ambacht', 'Dordrecht']\n",
    "\n",
    "study_areas = admin_area[admin_area['NAME_2'].isin(places_list)]\n",
    "\n",
    "print(f\"To confirm that this worked: We're left with the following cities {list(study_areas.NAME_2.unique())}\")\n",
    "\n",
    "# study_areas.plot()"
   ]
  },
  {
   "cell_type": "markdown",
   "id": "f3c39319-0ff6-499e-a134-5071841967f9",
   "metadata": {
    "jp-MarkdownHeadingCollapsed": true,
    "tags": []
   },
   "source": [
    "#### 2.0.2 Downloading landuse data using WFS\n",
    "In theory the data can be queried, but the standard with which it is accessed is tricky to play with. I've resorted to simply downloading the dataset from the link. In case you're interested, the WFS link and capabilities query below. "
   ]
  },
  {
   "cell_type": "code",
   "execution_count": null,
   "id": "edd5666f-1a09-43dd-bbb3-50f1b61de40c",
   "metadata": {},
   "outputs": [],
   "source": [
    "from owslib.wfs import WebFeatureService\n",
    "\n",
    "# Put the WFS url in a variable\n",
    "wfsUrl = 'https://geodata.nationaalgeoregister.nl/nwbwegen/wfs?'\n",
    "\n",
    "# Create a WFS object\n",
    "wfs = WebFeatureService(url=wfsUrl, version='2.0.0')\n",
    "\n",
    "# Get the title from the object\n",
    "print(wfs.identification.title)\n",
    "\n",
    "# Check the contents of the WFS\n",
    "print(list(wfs.contents))"
   ]
  },
  {
   "cell_type": "markdown",
   "id": "29c66f19-5a70-4a0c-9a8d-0cd6e151c64f",
   "metadata": {
    "tags": []
   },
   "source": [
    "#### 2.0.3 Downloading the full dataset from the NGR (nationaal georegister)\n",
    "\n",
    "The landuse dataset is available for the entirety of the Netherlands and is also INSPIRE standardised. \n",
    "\n",
    "Download link:\n",
    "https://www.nationaalgeoregister.nl/geonetwork/srv/eng/catalog.search#/metadata/6318009c-7b11-4ab9-9929-735584dfb692?tab=relations\n"
   ]
  },
  {
   "cell_type": "code",
   "execution_count": 7,
   "id": "1983f53f-d922-4c26-9e24-e482c6c2ed78",
   "metadata": {},
   "outputs": [
    {
     "name": "stdout",
     "output_type": "stream",
     "text": [
      "The dataframe has 9473 records and 12 columns\n",
      "----------------\n",
      "These are all the landuse categories contained in the dataset: ['Main road', 'Other semi built-up area', 'Wet natural area', 'Woodland', 'Other inland water', 'Rijn & Maas', 'Other agricultural usage', 'Water with recreational usage', 'Holiday recreation', 'Enclosed estuary', 'Industrial area and offices', 'Greenhouses', 'Area for daytrips', 'Sports ground (incl. car parks)', 'Car wreck site', 'Building site', 'Allotment garden', 'Residential', 'Retail trade, hotel and catering', 'Park and public garden', 'Socio-cultural facility', 'Cemetery', 'Public institutions', 'Water reservoir', 'Dumping site', 'Railroad', 'Dry natural area', 'Area for storing industrial water', 'Mining area', 'Airport', 'Ijsselmeer of Markermeer', 'Noordzee', 'Water where minerals are extracted']\n"
     ]
    },
    {
     "data": {
      "text/html": [
       "<div>\n",
       "<style scoped>\n",
       "    .dataframe tbody tr th:only-of-type {\n",
       "        vertical-align: middle;\n",
       "    }\n",
       "\n",
       "    .dataframe tbody tr th {\n",
       "        vertical-align: top;\n",
       "    }\n",
       "\n",
       "    .dataframe thead th {\n",
       "        text-align: right;\n",
       "    }\n",
       "</style>\n",
       "<table border=\"1\" class=\"dataframe\">\n",
       "  <thead>\n",
       "    <tr style=\"text-align: right;\">\n",
       "      <th></th>\n",
       "      <th>gml_id</th>\n",
       "      <th>description</th>\n",
       "      <th>name</th>\n",
       "      <th>localId</th>\n",
       "      <th>namespace</th>\n",
       "      <th>beginLifespanVersion</th>\n",
       "      <th>hilucsPresence</th>\n",
       "      <th>specificPresence</th>\n",
       "      <th>observationDate</th>\n",
       "      <th>validFrom</th>\n",
       "      <th>validTo</th>\n",
       "      <th>geometry</th>\n",
       "    </tr>\n",
       "  </thead>\n",
       "  <tbody>\n",
       "    <tr>\n",
       "      <th>883</th>\n",
       "      <td>BBG2017_884</td>\n",
       "      <td>Main road</td>\n",
       "      <td>4_1_1</td>\n",
       "      <td>BBG2017_884</td>\n",
       "      <td>NL.CBS.LU.ExistingLandUseObject</td>\n",
       "      <td>None</td>\n",
       "      <td>None</td>\n",
       "      <td>None</td>\n",
       "      <td>2017-07-31</td>\n",
       "      <td>2017-04-15</td>\n",
       "      <td>2017-09-15</td>\n",
       "      <td>MULTIPOLYGON (((112358.812 422024.122, 112347....</td>\n",
       "    </tr>\n",
       "    <tr>\n",
       "      <th>50759</th>\n",
       "      <td>BBG2017_50760</td>\n",
       "      <td>Other semi built-up area</td>\n",
       "      <td>6_5</td>\n",
       "      <td>BBG2017_50760</td>\n",
       "      <td>NL.CBS.LU.ExistingLandUseObject</td>\n",
       "      <td>None</td>\n",
       "      <td>None</td>\n",
       "      <td>None</td>\n",
       "      <td>2017-07-31</td>\n",
       "      <td>2017-04-15</td>\n",
       "      <td>2017-09-15</td>\n",
       "      <td>POLYGON ((104636.289 415714.495, 104640.019 41...</td>\n",
       "    </tr>\n",
       "    <tr>\n",
       "      <th>147861</th>\n",
       "      <td>BBG2017_147862</td>\n",
       "      <td>Wet natural area</td>\n",
       "      <td>6_3_1</td>\n",
       "      <td>BBG2017_147862</td>\n",
       "      <td>NL.CBS.LU.ExistingLandUseObject</td>\n",
       "      <td>None</td>\n",
       "      <td>None</td>\n",
       "      <td>None</td>\n",
       "      <td>2017-07-31</td>\n",
       "      <td>2017-04-15</td>\n",
       "      <td>2017-09-15</td>\n",
       "      <td>POLYGON ((105267.446 416100.918, 105267.441 41...</td>\n",
       "    </tr>\n",
       "    <tr>\n",
       "      <th>125969</th>\n",
       "      <td>BBG2017_125970</td>\n",
       "      <td>Woodland</td>\n",
       "      <td>1_2</td>\n",
       "      <td>BBG2017_125970</td>\n",
       "      <td>NL.CBS.LU.ExistingLandUseObject</td>\n",
       "      <td>None</td>\n",
       "      <td>None</td>\n",
       "      <td>None</td>\n",
       "      <td>2017-07-31</td>\n",
       "      <td>2017-04-15</td>\n",
       "      <td>2017-09-15</td>\n",
       "      <td>POLYGON ((104878.714 416440.997, 104879.254 41...</td>\n",
       "    </tr>\n",
       "    <tr>\n",
       "      <th>147877</th>\n",
       "      <td>BBG2017_147878</td>\n",
       "      <td>Wet natural area</td>\n",
       "      <td>6_3_1</td>\n",
       "      <td>BBG2017_147878</td>\n",
       "      <td>NL.CBS.LU.ExistingLandUseObject</td>\n",
       "      <td>None</td>\n",
       "      <td>None</td>\n",
       "      <td>None</td>\n",
       "      <td>2017-07-31</td>\n",
       "      <td>2017-04-15</td>\n",
       "      <td>2017-09-15</td>\n",
       "      <td>POLYGON ((105030.718 416663.815, 105030.654 41...</td>\n",
       "    </tr>\n",
       "  </tbody>\n",
       "</table>\n",
       "</div>"
      ],
      "text/plain": [
       "                gml_id               description   name         localId  \\\n",
       "883        BBG2017_884                 Main road  4_1_1     BBG2017_884   \n",
       "50759    BBG2017_50760  Other semi built-up area    6_5   BBG2017_50760   \n",
       "147861  BBG2017_147862          Wet natural area  6_3_1  BBG2017_147862   \n",
       "125969  BBG2017_125970                  Woodland    1_2  BBG2017_125970   \n",
       "147877  BBG2017_147878          Wet natural area  6_3_1  BBG2017_147878   \n",
       "\n",
       "                              namespace beginLifespanVersion hilucsPresence  \\\n",
       "883     NL.CBS.LU.ExistingLandUseObject                 None           None   \n",
       "50759   NL.CBS.LU.ExistingLandUseObject                 None           None   \n",
       "147861  NL.CBS.LU.ExistingLandUseObject                 None           None   \n",
       "125969  NL.CBS.LU.ExistingLandUseObject                 None           None   \n",
       "147877  NL.CBS.LU.ExistingLandUseObject                 None           None   \n",
       "\n",
       "       specificPresence observationDate   validFrom     validTo  \\\n",
       "883                None      2017-07-31  2017-04-15  2017-09-15   \n",
       "50759              None      2017-07-31  2017-04-15  2017-09-15   \n",
       "147861             None      2017-07-31  2017-04-15  2017-09-15   \n",
       "125969             None      2017-07-31  2017-04-15  2017-09-15   \n",
       "147877             None      2017-07-31  2017-04-15  2017-09-15   \n",
       "\n",
       "                                                 geometry  \n",
       "883     MULTIPOLYGON (((112358.812 422024.122, 112347....  \n",
       "50759   POLYGON ((104636.289 415714.495, 104640.019 41...  \n",
       "147861  POLYGON ((105267.446 416100.918, 105267.441 41...  \n",
       "125969  POLYGON ((104878.714 416440.997, 104879.254 41...  \n",
       "147877  POLYGON ((105030.718 416663.815, 105030.654 41...  "
      ]
     },
     "execution_count": 7,
     "metadata": {},
     "output_type": "execute_result"
    }
   ],
   "source": [
    "# Import landuse dataset as geodataframe using geopandas, then transform to Ammersfoort (28992). This will take a while as it is a big file.\n",
    "luseGDF = gpd.read_file('../data/raw_data/landuse/landuse.gml').to_crs(28992)\n",
    "\n",
    "# Clip the dataset to the study areas. Using a buffer around the study area to capture adjoining landuse.\n",
    "luseGDF_study_areas = luseGDF.clip(study_areas.buffer(100))\n",
    "# Check how many features and attributes were loaded\n",
    "print(f'The dataframe has {luseGDF_study_areas.shape[0]} records and {luseGDF_study_areas.shape[1]} columns')\n",
    "print('----------------')\n",
    "# Using .unique(), we can get all unique values in the description column and identify the values we're interested in\n",
    "print(f'These are all the landuse categories contained in the dataset: {list(luseGDF_study_areas.description.unique())}')\n",
    "\n",
    "# Check contents of landuse dataset. We're especially interested in the 'description' column\n",
    "luseGDF_study_areas.head()"
   ]
  },
  {
   "cell_type": "markdown",
   "id": "d5d22eeb-9056-4836-8264-c12f1b62c2a8",
   "metadata": {
    "tags": []
   },
   "source": [
    "### 2.1: Water proximity exclusion\n",
    "\n",
    "To exclude water surfaces we're using the landuse dataset to identify all water surfaces.\n",
    "\n",
    "We then define a buffer value for all water surfaces which we use to identify which trees to exclude.\n",
    "\n",
    "After buffering, the trees that are too close to the water surfaces are eliminated using a overlay function (difference)"
   ]
  },
  {
   "cell_type": "code",
   "execution_count": 8,
   "id": "32697e7b-a912-40f8-aea9-71b5bcdc2516",
   "metadata": {},
   "outputs": [],
   "source": [
    "# Isolate the water surfaces from the rest of the countrywide landuse dataset, then check how many features are left. \n",
    "# The dataframe that was created will be used multiple times so keep it in mind\n",
    "water = luseGDF_study_areas.loc[(luseGDF_study_areas.description == 'Other inland water') | \n",
    "                    (luseGDF_study_areas.description == 'Water with recreational usage') | \n",
    "                    (luseGDF_study_areas.description == 'Water reservoir') | \n",
    "                    (luseGDF_study_areas.description == 'Wet natural area') | \n",
    "                    (luseGDF_study_areas.description == 'Ijsselmeer of Markermeer') | \n",
    "                    (luseGDF_study_areas.description == 'Noordzee') | \n",
    "                    (luseGDF_study_areas.description == 'Waddenzee, Eems, Dollard') |\n",
    "                    (luseGDF_study_areas.description == 'Rijn & Maas') |\n",
    "                    (luseGDF_study_areas.description == 'Randmeer') |\n",
    "                    (luseGDF_study_areas.description == 'Enclosed estuary') |\n",
    "                    (luseGDF_study_areas.description == 'Water where minerals are extracted') |\n",
    "                    (luseGDF_study_areas.description == 'Area for storing industrial water')\n",
    "                   ]\n",
    "\n"
   ]
  },
  {
   "cell_type": "markdown",
   "id": "1e88af2c-0730-4086-a22d-467f0fcf0cf2",
   "metadata": {
    "tags": []
   },
   "source": [
    "#### Exclude water surfaces (running the function)"
   ]
  },
  {
   "cell_type": "code",
   "execution_count": 9,
   "id": "f654853e-0ecf-4638-9ef0-1e07e06dcf74",
   "metadata": {
    "tags": []
   },
   "outputs": [
    {
     "name": "stdout",
     "output_type": "stream",
     "text": [
      "The water filter removed 22612 trees from the dataset which were less than 25m away from a water surface. There are 111079 trees left.\n"
     ]
    }
   ],
   "source": [
    "## Water proximity exclusion happens by buffering all water surfaces and overlaying with the tree dataset.\n",
    "# Define a buffer area to exclude:\n",
    "buffer_water = 25\n",
    "\n",
    "\n",
    "# Using this function call, you can simply adjust the buffersize and have a look at what is being excluded. \n",
    "study_trees_no_water = water_exclusion(water_gdf=water, trees_gdf=study_trees,buffersize=buffer_water)\n",
    "\n",
    "# Visualise results, this is basic because it takes too many resources otherwise. Might take a second to load. Can reactivate if necessary.\n",
    "# study_trees_no_water.explore()"
   ]
  },
  {
   "cell_type": "markdown",
   "id": "15865315-20c9-4ef2-af9a-fb475b4e4220",
   "metadata": {},
   "source": [
    "#### Display results nicely, just for Amsterdam"
   ]
  },
  {
   "cell_type": "code",
   "execution_count": 10,
   "id": "da4bed1f-c1fb-40a3-9cb1-8ce6c20f91fd",
   "metadata": {},
   "outputs": [],
   "source": [
    "# USE THE BELOW FUNCTIONS TO DISPLAY THE BUFFER EXCLUSION IN AMSTERDAM. THE DATASET IS TOO BIG TO DISPLAY OTHERWISE. JUST MAKE SURE TO CHANGE THE BUFFER BELOW.\n",
    "\n",
    "ams_shape = gpd.read_file('../data/raw_data/admin_area/gadm41_NLD_2.json').to_crs(28992)\n",
    "ams_shape = ams_shape.loc[(ams_shape['NAME_2']  == 'Amsterdam')]\n",
    "\n",
    "water_ams = water.clip(ams_shape)\n",
    "water_ams['geometry'] = water_ams.buffer(buffer_water)\n",
    "\n",
    "trees_ams = study_trees.clip(ams_shape)\n",
    "\n",
    "study_trees_no_water_ams = study_trees_no_water.clip(ams_shape)"
   ]
  },
  {
   "cell_type": "code",
   "execution_count": null,
   "id": "0813f955-1841-4ede-8aee-0c1c4c9e1522",
   "metadata": {},
   "outputs": [],
   "source": [
    "m = water_ams.explore(column=\"description\", tooltip=\"description\", tiles=\"CartoDB positron\", cmap=\"Set1\"\n",
    ")\n",
    "\n",
    "trees_ams.explore(\n",
    "     m=m, color='red' # use red color on all points\n",
    ")\n",
    "\n",
    "study_trees_no_water_ams.explore(\n",
    "    m=m, color='green')\n",
    "\n",
    "folium.TileLayer('CartoDB positron', control=True).add_to(m)  # use folium to add alternative tiles\n",
    "folium.LayerControl().add_to(m)  # use folium to add layer control\n",
    "\n",
    "m  # show map"
   ]
  },
  {
   "cell_type": "markdown",
   "id": "8d86361a-d660-4e96-9894-624c0008b7d4",
   "metadata": {},
   "source": [
    "__NOTE:__\n",
    "\n",
    "Performance of folium is limited inside of Jupyter because the prefer_canvas option only activates when changed as a global setting in a saved .html file. If you want to show this map to anyone then the best way to do this is to:\n",
    "\n",
    "- Save the folium map using \n",
    "    \"m.save('../results/output/MAP_NAME.html')\"\n",
    "\n",
    "- Then navigate to the folder and open the .html file with a text editor of your choosing.\n",
    "\n",
    "- Once open, search for prefer_canvas and change the option from _false_ to _true_. Make sure to SAVE!\n",
    "\n",
    "- Then open the file and view the map in your browser. \n"
   ]
  },
  {
   "cell_type": "markdown",
   "id": "5822902c-6e49-48b5-9ea7-9d87106b2ace",
   "metadata": {
    "tags": []
   },
   "source": [
    "### 2.2: Trees in parks\n",
    "\n",
    "Trees in parks can be filtered by the same landuse dataset we used earlier."
   ]
  },
  {
   "cell_type": "code",
   "execution_count": 11,
   "id": "6b79b441-7845-4e31-8c19-3e2af3b0003f",
   "metadata": {},
   "outputs": [
    {
     "data": {
      "text/plain": [
       "(926, 12)"
      ]
     },
     "execution_count": 11,
     "metadata": {},
     "output_type": "execute_result"
    }
   ],
   "source": [
    "# Isolate the parks and public gardens from the rest of the countrywide landuse dataset, then check how many features are left. \n",
    "# We will use the new dataframe that was created at a later stage\n",
    "parks = luseGDF_study_areas.loc[luseGDF_study_areas.description == 'Park and public garden']\n",
    "parks.shape"
   ]
  },
  {
   "cell_type": "markdown",
   "id": "0b18877f-9f72-4bb0-b6a0-14b21c6c54ef",
   "metadata": {
    "tags": []
   },
   "source": [
    "#### 2.2.3 Add landuse information to all trees included in the study."
   ]
  },
  {
   "cell_type": "code",
   "execution_count": 12,
   "id": "a566f180-1fba-42d7-965b-9de3ede14314",
   "metadata": {},
   "outputs": [
    {
     "data": {
      "text/html": [
       "<div>\n",
       "<style scoped>\n",
       "    .dataframe tbody tr th:only-of-type {\n",
       "        vertical-align: middle;\n",
       "    }\n",
       "\n",
       "    .dataframe tbody tr th {\n",
       "        vertical-align: top;\n",
       "    }\n",
       "\n",
       "    .dataframe thead th {\n",
       "        text-align: right;\n",
       "    }\n",
       "</style>\n",
       "<table border=\"1\" class=\"dataframe\">\n",
       "  <thead>\n",
       "    <tr style=\"text-align: right;\">\n",
       "      <th></th>\n",
       "      <th>rowid</th>\n",
       "      <th>uuid</th>\n",
       "      <th>bron</th>\n",
       "      <th>tree_name</th>\n",
       "      <th>tree_intid</th>\n",
       "      <th>genus</th>\n",
       "      <th>species</th>\n",
       "      <th>cv</th>\n",
       "      <th>bm_treeheight</th>\n",
       "      <th>bm_crown_diameter</th>\n",
       "      <th>geometry</th>\n",
       "      <th>description</th>\n",
       "    </tr>\n",
       "  </thead>\n",
       "  <tbody>\n",
       "    <tr>\n",
       "      <th>0</th>\n",
       "      <td>51</td>\n",
       "      <td>00038cf6-d99a-4d13-8702-76a6a047de62</td>\n",
       "      <td>Groningen</td>\n",
       "      <td>Platanus ×hispanica</td>\n",
       "      <td>1181</td>\n",
       "      <td>Platanus</td>\n",
       "      <td>hispanica</td>\n",
       "      <td>None</td>\n",
       "      <td>20.1</td>\n",
       "      <td>10.7</td>\n",
       "      <td>POINT (229687.409 580299.600)</td>\n",
       "      <td>Residential</td>\n",
       "    </tr>\n",
       "    <tr>\n",
       "      <th>1</th>\n",
       "      <td>80</td>\n",
       "      <td>0005c248-f6f7-40aa-972b-4ce74bcfdad6</td>\n",
       "      <td>Rotterdam</td>\n",
       "      <td>Platanus ×hispanica</td>\n",
       "      <td>1181</td>\n",
       "      <td>Platanus</td>\n",
       "      <td>hispanica</td>\n",
       "      <td>None</td>\n",
       "      <td>21.2</td>\n",
       "      <td>14.3</td>\n",
       "      <td>POINT (92083.890 438938.080)</td>\n",
       "      <td>Main road</td>\n",
       "    </tr>\n",
       "    <tr>\n",
       "      <th>2</th>\n",
       "      <td>143</td>\n",
       "      <td>000a17db-c6ac-4ad5-b35e-597b61f1f896</td>\n",
       "      <td>Utrecht</td>\n",
       "      <td>Platanus ×hispanica</td>\n",
       "      <td>1181</td>\n",
       "      <td>Platanus</td>\n",
       "      <td>hispanica</td>\n",
       "      <td>None</td>\n",
       "      <td>4.7</td>\n",
       "      <td>4.7</td>\n",
       "      <td>POINT (134117.840 453505.637)</td>\n",
       "      <td>Building site</td>\n",
       "    </tr>\n",
       "    <tr>\n",
       "      <th>3</th>\n",
       "      <td>156</td>\n",
       "      <td>000a928a-3b23-4e58-8012-b2dd6ed8c97b</td>\n",
       "      <td>Hendrik-Ido-Ambacht</td>\n",
       "      <td>Platanus ×hispanica</td>\n",
       "      <td>1181</td>\n",
       "      <td>Platanus</td>\n",
       "      <td>hispanica</td>\n",
       "      <td>None</td>\n",
       "      <td>3.0</td>\n",
       "      <td>11.2</td>\n",
       "      <td>POINT (103924.914 427853.067)</td>\n",
       "      <td>Residential</td>\n",
       "    </tr>\n",
       "    <tr>\n",
       "      <th>4</th>\n",
       "      <td>163</td>\n",
       "      <td>000b238e-d4c7-4263-b092-ffbe2541620c</td>\n",
       "      <td>Rotterdam</td>\n",
       "      <td>Platanus ×hispanica</td>\n",
       "      <td>1181</td>\n",
       "      <td>Platanus</td>\n",
       "      <td>hispanica</td>\n",
       "      <td>None</td>\n",
       "      <td>13.5</td>\n",
       "      <td>14.5</td>\n",
       "      <td>POINT (91426.590 437374.960)</td>\n",
       "      <td>Main road</td>\n",
       "    </tr>\n",
       "  </tbody>\n",
       "</table>\n",
       "</div>"
      ],
      "text/plain": [
       "   rowid                                  uuid                 bron  \\\n",
       "0     51  00038cf6-d99a-4d13-8702-76a6a047de62            Groningen   \n",
       "1     80  0005c248-f6f7-40aa-972b-4ce74bcfdad6            Rotterdam   \n",
       "2    143  000a17db-c6ac-4ad5-b35e-597b61f1f896              Utrecht   \n",
       "3    156  000a928a-3b23-4e58-8012-b2dd6ed8c97b  Hendrik-Ido-Ambacht   \n",
       "4    163  000b238e-d4c7-4263-b092-ffbe2541620c            Rotterdam   \n",
       "\n",
       "             tree_name  tree_intid     genus    species    cv  bm_treeheight  \\\n",
       "0  Platanus ×hispanica        1181  Platanus  hispanica  None           20.1   \n",
       "1  Platanus ×hispanica        1181  Platanus  hispanica  None           21.2   \n",
       "2  Platanus ×hispanica        1181  Platanus  hispanica  None            4.7   \n",
       "3  Platanus ×hispanica        1181  Platanus  hispanica  None            3.0   \n",
       "4  Platanus ×hispanica        1181  Platanus  hispanica  None           13.5   \n",
       "\n",
       "   bm_crown_diameter                       geometry    description  \n",
       "0               10.7  POINT (229687.409 580299.600)    Residential  \n",
       "1               14.3   POINT (92083.890 438938.080)      Main road  \n",
       "2                4.7  POINT (134117.840 453505.637)  Building site  \n",
       "3               11.2  POINT (103924.914 427853.067)    Residential  \n",
       "4               14.5   POINT (91426.590 437374.960)      Main road  "
      ]
     },
     "execution_count": 12,
     "metadata": {},
     "output_type": "execute_result"
    }
   ],
   "source": [
    "# Using a spatial join, we can add the corresponding landuse class (landuse.description) to each of the trees\n",
    "\n",
    "treeslanduse = gpd.tools.sjoin(study_trees_no_water, luseGDF_study_areas, predicate=\"within\", how=\"left\")\n",
    "\n",
    "# Drop extra columns to clean the dataset. We're only interested in the 'description' column.\n",
    "treeslanduse = treeslanduse.drop(columns=['index_right','gml_id', 'name', 'localId', 'namespace', 'beginLifespanVersion', 'hilucsPresence', 'specificPresence', 'observationDate', 'validFrom', 'validTo'])\n",
    "\n",
    "# Show the contents\n",
    "treeslanduse.head()\n",
    "\n",
    "# Can then as next step filter the data down to only include the trees in park and public garden. But this way we are creating a dataframe that we could use for a variety of queries and further filtering"
   ]
  },
  {
   "cell_type": "code",
   "execution_count": null,
   "id": "7abd1b78-6b1a-426e-9dea-d037cb6bbbbc",
   "metadata": {},
   "outputs": [],
   "source": [
    "# Create a new dataframe including only the trees that are located in the land use category we want\n",
    "treesinparks = treeslanduse.loc[treeslanduse.description == 'Park and public garden']\n",
    "# Check how many trees are located within the Park and public garden category\n",
    "print(f'There area {treesinparks.shape[0]} trees in parks.')\n",
    "\n",
    "# Visualise all trees in parks.\n",
    "m = parks.explore()\n",
    "treesinparks.explore(m=m, color='green')\n",
    "# Show map\n",
    "m"
   ]
  },
  {
   "cell_type": "markdown",
   "id": "f93c979d-6dae-4a7f-8ce5-341e699403e6",
   "metadata": {
    "tags": []
   },
   "source": [
    "#### 2.2.4: Only select trees that are at least x m away from the polygon boundary.\n",
    "\n",
    "This is done with the following steps:\n",
    "- create a buffer of xm around each tree\n",
    "- use the overlay function to calculate the intersections between tree and park polygons.\n",
    "- assess the the buffer polygon areas after intersection. If they are untouched (or within the tolerance margin), the trees are located at least the buffer distance away from the park boundaries."
   ]
  },
  {
   "cell_type": "code",
   "execution_count": null,
   "id": "0ba8b1ab-0582-4bda-b29e-c57bb654a75c",
   "metadata": {},
   "outputs": [],
   "source": [
    "## Select a buffer to filter the dataset with (value is in m)\n",
    "park_boundary_buffer = 45\n",
    "\n",
    "## Takes values between 0 and 1. Signifies the overlap tolerance in percent (e.g., 0.99 is a 1% overlap tolerance with other landuse, 0.9 is a 10% tolerance and so forth)\n",
    "overlap_tolerance = 0.99\n",
    "\n",
    "# Run the function\n",
    "tree_selection = tree_exclusion(parks_gdf=parks,tree_gdf=treesinparks,buffersize=park_boundary_buffer,tolerance=overlap_tolerance)\n",
    "\n",
    "## Bringing the tree selection back to a point dataframe (we created a polygon)\n",
    "# Filter original tree dataframe by rowid of the tree buffer dataframe\n",
    "treesinparks_selection = treesinparks[(treesinparks.rowid.isin(tree_selection.rowid))]\n",
    "\n",
    "# Visualise the result\n",
    "tree_selection.explore()"
   ]
  },
  {
   "cell_type": "code",
   "execution_count": null,
   "id": "10230469-a20b-47cf-8f22-d4bbc148b484",
   "metadata": {},
   "outputs": [],
   "source": [
    "m = parks.explore(column=\"description\", tooltip=\"description\", tiles=\"CartoDB positron\", cmap=\"Set1\"\n",
    ")\n",
    "\n",
    "trees_ams.explore(\n",
    "     m=m, color='red' # use red color on all points\n",
    ")\n",
    "\n",
    "tree_selection.explore(\n",
    "    m=m, color='green')\n",
    "\n",
    "folium.TileLayer('CartoDB positron', control=True).add_to(m)  # use folium to add alternative tiles\n",
    "folium.LayerControl().add_to(m)  # use folium to add layer control\n",
    "m.save(\"../results/output/ams_parks_trees.html\")\n",
    "\n",
    "\n",
    "m  # show map"
   ]
  },
  {
   "cell_type": "markdown",
   "id": "7b8db8cd-450e-4b7e-a895-3013eea7e4ae",
   "metadata": {
    "tags": []
   },
   "source": [
    "#### 2.2.5: Crown area, % coverage\n",
    "\n",
    "- Note: The tree in question is also counted in the % crown area - might have to be exluded?"
   ]
  },
  {
   "cell_type": "markdown",
   "id": "587c688e-1413-423d-a06f-d788cee1fd8d",
   "metadata": {},
   "source": [
    "#### Executing the tree crown area function"
   ]
  },
  {
   "cell_type": "code",
   "execution_count": 17,
   "id": "3d2593f7-68ae-4314-8d0a-0054586e8d9d",
   "metadata": {},
   "outputs": [
    {
     "name": "stdout",
     "output_type": "stream",
     "text": [
      "Calculating tree crown area for entire dataset\n"
     ]
    },
    {
     "data": {
      "application/vnd.jupyter.widget-view+json": {
       "model_id": "a0be73e10c034a8597ec5ac86808e100",
       "version_major": 2,
       "version_minor": 0
      },
      "text/plain": [
       "  0%|          | 0/2092 [00:00<?, ?it/s]"
      ]
     },
     "metadata": {},
     "output_type": "display_data"
    },
    {
     "name": "stdout",
     "output_type": "stream",
     "text": [
      "Save as separate city dataframe in dictionary\n"
     ]
    },
    {
     "data": {
      "application/vnd.jupyter.widget-view+json": {
       "model_id": "de0082dea04e43bb8c3a48b3c96e3120",
       "version_major": 2,
       "version_minor": 0
      },
      "text/plain": [
       "  0%|          | 0/8 [00:00<?, ?it/s]"
      ]
     },
     "metadata": {},
     "output_type": "display_data"
    }
   ],
   "source": [
    "tree_buffer = 25\n",
    "\n",
    "# Execute the function, make sure to use treesinparks_selection as the selection_gdf, because the tree_selection dataset is polygon, not point.\n",
    "print('Calculating tree crown area for entire dataset')\n",
    "crown_area_study_trees = calculatetreecrownareainvariablebuffer(selection_gdf=treesinparks_selection,tree_gdf=treesinparks,buffersize=tree_buffer)\n",
    "\n",
    "# Create new dictionary for trees in parks\n",
    "trees_in_parks_dict = {}\n",
    "\n",
    "# Save trees in parks in dictionary\n",
    "print('Save as separate city dataframe in dictionary')\n",
    "for index, row in tqdm(study_areas.iterrows(), total=study_areas.shape[0]):\n",
    "        \n",
    "    # Grab the area name to use later\n",
    "    area_name = row['NAME_2']\n",
    "        \n",
    "    # 's-Gravenhage has a special character in the name which needs to be removed\n",
    "    if area_name == \"\\'s-Gravenhage\":\n",
    "        area_name = area_name[1:]\n",
    "    # Clip the tree dataset to only include the city we're working on\n",
    "    trees = crown_area_study_trees.clip(row.geometry)\n",
    "    \n",
    "    trees_in_parks_dict[area_name] = trees\n",
    "    \n",
    "# Visualise the crown area calculated before (activate if wanted)\n",
    "#crown_area_study_trees.explore(column=f'perc_tree_cover_{tree_buffer}m',cmap='viridis',scheme='NaturalBreaks')\n"
   ]
  },
  {
   "cell_type": "markdown",
   "id": "52dc87e1-d0f5-4334-9b12-1671a0b77de4",
   "metadata": {
    "tags": []
   },
   "source": [
    "### Section 2.3: Trees in street canyons\n",
    "\n",
    "Process:\n",
    "\n",
    "Identify trees in street canyons:\n",
    "- For simplification we're first selecting trees that are not in parks (inverse of above function)\n",
    "\n",
    "Then:\n",
    "- we use the official street dataset of the Netherlands as well as buildings taken from the 3dbag.\n",
    "- using the street network and building footprints (with height attributes), we calculate the street profile (e.g., widths, w/h ratio) and street orientation.\n",
    "- we then filter by street orientation, using the orientation values and street widths. \n",
    "\n",
    "To-do: \n",
    "- Clean up the road datasets in the folders.\n"
   ]
  },
  {
   "cell_type": "markdown",
   "id": "932516c8-38ef-433a-bca7-55f970a5146c",
   "metadata": {
    "tags": []
   },
   "source": [
    "#### 2.3.1 Initial selection of trees"
   ]
  },
  {
   "cell_type": "code",
   "execution_count": 18,
   "id": "574aca6e-51c7-4ba2-82ef-962be0c982d6",
   "metadata": {},
   "outputs": [
    {
     "data": {
      "text/plain": [
       "(93157, 12)"
      ]
     },
     "execution_count": 18,
     "metadata": {},
     "output_type": "execute_result"
    }
   ],
   "source": [
    "# Create a new dataframe including only the trees that are located in the land use category we want\n",
    "trees_other = treeslanduse.loc[~(treeslanduse.description == 'Park and public garden')]\n",
    "\n",
    "# Check how many trees are located within the Park and public garden category\n",
    "trees_other.shape"
   ]
  },
  {
   "cell_type": "markdown",
   "id": "eed1e927-62b0-4670-8060-868f5403efc4",
   "metadata": {
    "tags": []
   },
   "source": [
    "#### 2.3.2 Street orientation and street profile (widths, h/w ratio)\n",
    "\n",
    "Potential to-do's:\n",
    "- Split further into nodes and edges by converting to graph and back (see if it makes a difference)\n",
    "- Network could be simplified. This could be done using  using BGT road polygons and calculating the centreline (or just grabbing the width from the polygons?)"
   ]
  },
  {
   "cell_type": "markdown",
   "id": "42d3c62b-38a0-40ed-adfb-b99bd3b6d052",
   "metadata": {
    "tags": []
   },
   "source": [
    "##### (ONLY FOR REFERENCE) Importing and clipping all roads in the NL"
   ]
  },
  {
   "cell_type": "code",
   "execution_count": null,
   "id": "baf579bc-ecb0-4358-b33c-8f20607518d5",
   "metadata": {},
   "outputs": [],
   "source": [
    "## THIS IS ONLY FOR REFERENCE. THE ORIGINAL DATASET IS LOCATED HERE, WAS CLIPPED TO THE STUDY AREA EXTENT.\n",
    "# read road network of NL\n",
    "network = gpd.read_file('../data/raw_data/rijkswaterstraat/01-12-2022/Wenetworkn/Wegvakken.shp')\n",
    "\n",
    "# Clipped to the study areas\n",
    "network_study_areas = network.clip(study_areas)\n",
    "# Then saved to file\n",
    "network_study_areas.to_file('../data/clean_data/wegvakken.gpkg', layer='original', driver='GPKG')"
   ]
  },
  {
   "cell_type": "markdown",
   "id": "6812476e-ff89-4663-89aa-88e3d56f02e8",
   "metadata": {},
   "source": [
    "##### Execute from here:"
   ]
  },
  {
   "cell_type": "code",
   "execution_count": 19,
   "id": "12ca3ccf-a5e0-4874-8c42-06efd0b3da0c",
   "metadata": {},
   "outputs": [],
   "source": [
    "# Import all buildings in NL\n",
    "buildings_nl = gpd.read_file('../data/clean_data/3dbag/buildings_study_area.gpkg')\n",
    "# 'Clean' the building dataset, include only 'buildings' or 'structures' larger than 30 m2.\n",
    "buildings_nl = buildings_nl.loc[(buildings_nl.geometry.area > 30)]\n",
    "\n",
    "# Import the streetnetwork if you haven't already. These are large files so this will take a second.\n",
    "network = gpd.read_file('../data/clean_data/wegvakken.gpkg', layer='original')"
   ]
  },
  {
   "cell_type": "code",
   "execution_count": 20,
   "id": "1aa981d1-4c65-4e25-b05e-f884cdd89684",
   "metadata": {},
   "outputs": [
    {
     "data": {
      "application/vnd.jupyter.widget-view+json": {
       "model_id": "a649ebb6716f4169bc85c22acd63846d",
       "version_major": 2,
       "version_minor": 0
      },
      "text/plain": [
       "  0%|          | 0/8 [00:00<?, ?it/s]"
      ]
     },
     "metadata": {},
     "output_type": "display_data"
    },
    {
     "name": "stdout",
     "output_type": "stream",
     "text": [
      "Working on Groningen\n",
      "----------------------------\n",
      "Step 1: Clipped buildings of Groningen\n",
      "Step 2: Clipped roads of Groningen\n",
      "Step 3: Calculated street profile of Groningen\n"
     ]
    },
    {
     "data": {
      "application/vnd.jupyter.widget-view+json": {
       "model_id": "10ccd61940b1467ba79b6691bebe9e6f",
       "version_major": 2,
       "version_minor": 0
      },
      "text/plain": [
       "  0%|          | 0/14254 [00:00<?, ?it/s]"
      ]
     },
     "metadata": {},
     "output_type": "display_data"
    },
    {
     "name": "stdout",
     "output_type": "stream",
     "text": [
      "Step 4: Calculated street orientation of Groningen\n",
      "Cleaning up...\n",
      "Step 5: Stored street profile values in 'street_profiles[Groningen]'.\n",
      "----------------------------\n",
      "Working on Amsterdam\n",
      "----------------------------\n",
      "Step 1: Clipped buildings of Amsterdam\n",
      "Step 2: Clipped roads of Amsterdam\n",
      "Step 3: Calculated street profile of Amsterdam\n"
     ]
    },
    {
     "data": {
      "application/vnd.jupyter.widget-view+json": {
       "model_id": "db3d4e6284a642149aa6a88f5983daf2",
       "version_major": 2,
       "version_minor": 0
      },
      "text/plain": [
       "  0%|          | 0/35395 [00:00<?, ?it/s]"
      ]
     },
     "metadata": {},
     "output_type": "display_data"
    },
    {
     "name": "stdout",
     "output_type": "stream",
     "text": [
      "Step 4: Calculated street orientation of Amsterdam\n",
      "Cleaning up...\n",
      "Step 5: Stored street profile values in 'street_profiles[Amsterdam]'.\n",
      "----------------------------\n",
      "Working on Heerhugowaard\n",
      "----------------------------\n",
      "Step 1: Clipped buildings of Heerhugowaard\n",
      "Step 2: Clipped roads of Heerhugowaard\n",
      "Step 3: Calculated street profile of Heerhugowaard\n"
     ]
    },
    {
     "data": {
      "application/vnd.jupyter.widget-view+json": {
       "model_id": "261222bbbd5f4d6c91643487c52eed7b",
       "version_major": 2,
       "version_minor": 0
      },
      "text/plain": [
       "  0%|          | 0/4889 [00:00<?, ?it/s]"
      ]
     },
     "metadata": {},
     "output_type": "display_data"
    },
    {
     "name": "stdout",
     "output_type": "stream",
     "text": [
      "Step 4: Calculated street orientation of Heerhugowaard\n",
      "Cleaning up...\n",
      "Step 5: Stored street profile values in 'street_profiles[Heerhugowaard]'.\n",
      "----------------------------\n",
      "Working on Utrecht\n",
      "----------------------------\n",
      "Step 1: Clipped buildings of Utrecht\n",
      "Step 2: Clipped roads of Utrecht\n",
      "Step 3: Calculated street profile of Utrecht\n"
     ]
    },
    {
     "data": {
      "application/vnd.jupyter.widget-view+json": {
       "model_id": "7a6e323934ba4b5c988ba34e7f4ea1cc",
       "version_major": 2,
       "version_minor": 0
      },
      "text/plain": [
       "  0%|          | 0/21135 [00:00<?, ?it/s]"
      ]
     },
     "metadata": {},
     "output_type": "display_data"
    },
    {
     "name": "stdout",
     "output_type": "stream",
     "text": [
      "Step 4: Calculated street orientation of Utrecht\n",
      "Cleaning up...\n",
      "Step 5: Stored street profile values in 'street_profiles[Utrecht]'.\n",
      "----------------------------\n",
      "Working on s-Gravenhage\n",
      "----------------------------\n",
      "Step 1: Clipped buildings of s-Gravenhage\n",
      "Step 2: Clipped roads of s-Gravenhage\n",
      "Step 3: Calculated street profile of s-Gravenhage\n"
     ]
    },
    {
     "data": {
      "application/vnd.jupyter.widget-view+json": {
       "model_id": "a19969795f7043c1af0d548152cfa038",
       "version_major": 2,
       "version_minor": 0
      },
      "text/plain": [
       "  0%|          | 0/23230 [00:00<?, ?it/s]"
      ]
     },
     "metadata": {},
     "output_type": "display_data"
    },
    {
     "name": "stdout",
     "output_type": "stream",
     "text": [
      "Step 4: Calculated street orientation of s-Gravenhage\n",
      "Cleaning up...\n",
      "Step 5: Stored street profile values in 'street_profiles[s-Gravenhage]'.\n",
      "----------------------------\n",
      "Working on Dordrecht\n",
      "----------------------------\n",
      "Step 1: Clipped buildings of Dordrecht\n",
      "Step 2: Clipped roads of Dordrecht\n",
      "Step 3: Calculated street profile of Dordrecht\n"
     ]
    },
    {
     "data": {
      "application/vnd.jupyter.widget-view+json": {
       "model_id": "174fe71e1fe4422bb003c110be8f2147",
       "version_major": 2,
       "version_minor": 0
      },
      "text/plain": [
       "  0%|          | 0/7870 [00:00<?, ?it/s]"
      ]
     },
     "metadata": {},
     "output_type": "display_data"
    },
    {
     "name": "stdout",
     "output_type": "stream",
     "text": [
      "Step 4: Calculated street orientation of Dordrecht\n",
      "Cleaning up...\n",
      "Step 5: Stored street profile values in 'street_profiles[Dordrecht]'.\n",
      "----------------------------\n",
      "Working on Hendrik-Ido-Ambacht\n",
      "----------------------------\n",
      "Step 1: Clipped buildings of Hendrik-Ido-Ambacht\n",
      "Step 2: Clipped roads of Hendrik-Ido-Ambacht\n",
      "Step 3: Calculated street profile of Hendrik-Ido-Ambacht\n"
     ]
    },
    {
     "data": {
      "application/vnd.jupyter.widget-view+json": {
       "model_id": "0b26ef136720422aa8a633251404e932",
       "version_major": 2,
       "version_minor": 0
      },
      "text/plain": [
       "  0%|          | 0/2347 [00:00<?, ?it/s]"
      ]
     },
     "metadata": {},
     "output_type": "display_data"
    },
    {
     "name": "stdout",
     "output_type": "stream",
     "text": [
      "Step 4: Calculated street orientation of Hendrik-Ido-Ambacht\n",
      "Cleaning up...\n",
      "Step 5: Stored street profile values in 'street_profiles[Hendrik-Ido-Ambacht]'.\n",
      "----------------------------\n",
      "Working on Rotterdam\n",
      "----------------------------\n",
      "Step 1: Clipped buildings of Rotterdam\n",
      "Step 2: Clipped roads of Rotterdam\n",
      "Step 3: Calculated street profile of Rotterdam\n"
     ]
    },
    {
     "data": {
      "application/vnd.jupyter.widget-view+json": {
       "model_id": "09496705053243238a0ccd504503ac90",
       "version_major": 2,
       "version_minor": 0
      },
      "text/plain": [
       "  0%|          | 0/35041 [00:00<?, ?it/s]"
      ]
     },
     "metadata": {},
     "output_type": "display_data"
    },
    {
     "name": "stdout",
     "output_type": "stream",
     "text": [
      "Step 4: Calculated street orientation of Rotterdam\n",
      "Cleaning up...\n",
      "Step 5: Stored street profile values in 'street_profiles[Rotterdam]'.\n",
      "----------------------------\n",
      "MISSION SUCCESS - END\n"
     ]
    }
   ],
   "source": [
    "# Create an empty dictionary for the street profile dataframes to be saved in\n",
    "street_profiles = {}\n",
    "\n",
    "# Call the street_profile_nl function to calculate the street profiles and orientation values. Results are saved to the street_profiles dictionary\n",
    "street_profile_nl(buildings_gdf=buildings_nl, streets_gdf=network,study_areas_gdf=study_areas)"
   ]
  },
  {
   "cell_type": "markdown",
   "id": "e6711713-651d-4a0d-b7ac-8a68b898a45f",
   "metadata": {},
   "source": [
    "##### Visualise your results"
   ]
  },
  {
   "cell_type": "code",
   "execution_count": null,
   "id": "43bf10b9-f1d9-426c-8d5d-fdf4204bae36",
   "metadata": {},
   "outputs": [],
   "source": [
    "# You can access the dataframes by giving the respective key. In this case, we're querying the street_profile dictionary using the key 'Rotterdam' to access the values.\n",
    "# Then we can use any other regular function such as .explore()\n",
    "street_profiles['Rotterdam'].explore(column='widths', cmap='Blues_r')"
   ]
  },
  {
   "cell_type": "code",
   "execution_count": null,
   "id": "5e3e99b9-e6c1-4d10-943c-c2efb8bd992d",
   "metadata": {},
   "outputs": [],
   "source": [
    "# Same as above, just a different value\n",
    "street_profiles['Rotterdam'].explore(column='orientation', cmap='viridis')"
   ]
  },
  {
   "cell_type": "markdown",
   "id": "f53a3183-c597-4999-a65d-f200688fb016",
   "metadata": {
    "tags": []
   },
   "source": [
    "#### 2.3.3 Select trees in streets with e-w orientation."
   ]
  },
  {
   "cell_type": "code",
   "execution_count": 21,
   "id": "be7949c2-5305-47e2-b240-0adead886326",
   "metadata": {},
   "outputs": [
    {
     "data": {
      "application/vnd.jupyter.widget-view+json": {
       "model_id": "766116a31785497fa1b21aedfd1425d3",
       "version_major": 2,
       "version_minor": 0
      },
      "text/plain": [
       "  0%|          | 0/8 [00:00<?, ?it/s]"
      ]
     },
     "metadata": {},
     "output_type": "display_data"
    },
    {
     "name": "stdout",
     "output_type": "stream",
     "text": [
      "Working on Groningen\n",
      "-----------------------\n",
      "Step 1: Clipped tree dataset with city geometry\n",
      "Step 2: Selected only roads between orientation of 80 and 100 degrees\n",
      "Results: In Groningen 874 trees are located in streets with east-west orientation. The filter eliminated 8614 trees from the dataset.\n",
      "---------------------------\n",
      "Working on Amsterdam\n",
      "-----------------------\n",
      "Step 1: Clipped tree dataset with city geometry\n",
      "Step 2: Selected only roads between orientation of 80 and 100 degrees\n",
      "Results: In Amsterdam 6412 trees are located in streets with east-west orientation. The filter eliminated 21611 trees from the dataset.\n",
      "---------------------------\n",
      "Working on Heerhugowaard\n",
      "-----------------------\n",
      "Step 1: Clipped tree dataset with city geometry\n",
      "Step 2: Selected only roads between orientation of 80 and 100 degrees\n",
      "Results: In Heerhugowaard 352 trees are located in streets with east-west orientation. The filter eliminated 1300 trees from the dataset.\n",
      "---------------------------\n",
      "Working on Utrecht\n",
      "-----------------------\n",
      "Step 1: Clipped tree dataset with city geometry\n",
      "Step 2: Selected only roads between orientation of 80 and 100 degrees\n",
      "Results: In Utrecht 1651 trees are located in streets with east-west orientation. The filter eliminated 11910 trees from the dataset.\n",
      "---------------------------\n",
      "Working on s-Gravenhage\n",
      "-----------------------\n",
      "Step 1: Clipped tree dataset with city geometry\n",
      "Step 2: Selected only roads between orientation of 80 and 100 degrees\n",
      "Results: In s-Gravenhage 839 trees are located in streets with east-west orientation. The filter eliminated 12768 trees from the dataset.\n",
      "---------------------------\n",
      "Working on Dordrecht\n",
      "-----------------------\n",
      "Step 1: Clipped tree dataset with city geometry\n",
      "Step 2: Selected only roads between orientation of 80 and 100 degrees\n",
      "Results: In Dordrecht 992 trees are located in streets with east-west orientation. The filter eliminated 3498 trees from the dataset.\n",
      "---------------------------\n",
      "Working on Hendrik-Ido-Ambacht\n",
      "-----------------------\n",
      "Step 1: Clipped tree dataset with city geometry\n",
      "Step 2: Selected only roads between orientation of 80 and 100 degrees\n",
      "Results: In Hendrik-Ido-Ambacht 22 trees are located in streets with east-west orientation. The filter eliminated 749 trees from the dataset.\n",
      "---------------------------\n",
      "Working on Rotterdam\n",
      "-----------------------\n",
      "Step 1: Clipped tree dataset with city geometry\n",
      "Step 2: Selected only roads between orientation of 80 and 100 degrees\n",
      "Results: In Rotterdam 2244 trees are located in streets with east-west orientation. The filter eliminated 16920 trees from the dataset.\n",
      "---------------------------\n",
      "MISSION SUCCESS - END\n"
     ]
    }
   ],
   "source": [
    "# Select which orientation threshold you would like to use to filter the road network.\n",
    "min_orientation = 80\n",
    "max_orientation = 100\n",
    "\n",
    "# Create an empty dictionary to save the tree selection in.\n",
    "trees_canyons_dict = {}\n",
    "\n",
    "# Loop through the study_areas_gdf to get results for each of the cities individually. The tqdm() wrapper is used to show the progress meter.\n",
    "for index, row in tqdm(study_areas.iterrows(), total=study_areas.shape[0]):\n",
    "        \n",
    "        # Grab the area name to use later\n",
    "        area_name = row['NAME_2']\n",
    "        \n",
    "        # To deal with the special character in the name\n",
    "        if area_name == \"\\'s-Gravenhage\":\n",
    "            area_name = area_name[1:]\n",
    "        \n",
    "        # Iterate throught the items contained in the street_profiles dictionary. The city is the key, the edges are the streets. \n",
    "        for city, edges in street_profiles.items():\n",
    "            \n",
    "            # Make sure we're working with the right dataset by comparing city and area_name\n",
    "            if city == area_name:\n",
    "                print(f'Working on {city}')\n",
    "                print('-----------------------')\n",
    "                \n",
    "                # Clip the tree dataset to the city extent\n",
    "                trees_area = trees_other.clip(row.geometry)\n",
    "                print('Step 1: Clipped tree dataset with city geometry')\n",
    "                \n",
    "                # Filter the road network to only include roads within the orientation values you defined above.\n",
    "                e_w_streets = edges.loc[(edges.orientation >= min_orientation) & (edges.orientation <= max_orientation)]\n",
    "                print(f'Step 2: Selected only roads between orientation of {min_orientation} and {max_orientation} degrees')\n",
    "                \n",
    "                # Create a copy of that dataframe\n",
    "                e_w_streets_buffer = e_w_streets.copy()\n",
    "\n",
    "                # Buffer edges with street width/2, without buffering the cap - we use this to filter out the trees in the roads.\n",
    "                e_w_streets_buffer['geometry'] = e_w_streets_buffer.buffer((e_w_streets_buffer['widths']/2), cap_style=2)\n",
    "                \n",
    "                # Clipping with the buffer to select the trees that are in the roads.\n",
    "                e_w_trees = trees_area.clip(e_w_streets_buffer)\n",
    "                \n",
    "                print(f'Results: In {city} {e_w_trees.shape[0]} trees are located in streets with east-west orientation. The filter eliminated {(trees_area.shape[0] - e_w_trees.shape[0])} trees from the dataset.')\n",
    "                \n",
    "                print('---------------------------')\n",
    "                \n",
    "                # Save the tree selection dataframe in the tree_dict using the current city as a key, similar to above.\n",
    "                trees_canyons_dict[city] = e_w_trees\n",
    "                \n",
    "            else:\n",
    "                # Makes sure that we continue until the city == area_name has found a match. \n",
    "                continue\n",
    "print('MISSION SUCCESS - END')\n"
   ]
  },
  {
   "cell_type": "markdown",
   "id": "56f00e82-a9f6-47bf-9c61-5dcb4984cee4",
   "metadata": {},
   "source": [
    "##### Visualise your results"
   ]
  },
  {
   "cell_type": "code",
   "execution_count": null,
   "id": "30eba60c-2050-4abe-9005-b5524b4c53d9",
   "metadata": {},
   "outputs": [],
   "source": [
    "m = street_profiles['Amsterdam'].explore(column=\"orientation\", tooltip=\"widths\", tiles=\"CartoDB positron\", cmap=\"viridis\"\n",
    ")\n",
    "\n",
    "trees_other.explore(\n",
    "    m=m,\n",
    "    color=\"red\"\n",
    ")\n",
    "\n",
    "trees_canyons_dict['Amsterdam'].explore(\n",
    "     m=m, # pass the map object\n",
    "     color=\"green\", # use red color on all points\n",
    ")\n",
    "\n",
    "folium.TileLayer('CartoDB positron', control=True).add_to(m)  # use folium to add alternative tiles\n",
    "folium.LayerControl().add_to(m)  # use folium to add layer control\n",
    "m.save(\"../results/output/trees_selection_e_w.html\")\n",
    "\n",
    "m  # show map"
   ]
  },
  {
   "cell_type": "markdown",
   "id": "451b37aa-b6b3-4200-92a0-19340d1dfc80",
   "metadata": {},
   "source": [
    "### 2.4 Floor Space Index (FSI) and Ground Space Index (GSI)"
   ]
  },
  {
   "cell_type": "markdown",
   "id": "af32375d-dba6-4355-aadb-3286534acf66",
   "metadata": {},
   "source": [
    "#### Calculate FSI"
   ]
  },
  {
   "cell_type": "code",
   "execution_count": 23,
   "id": "203f1661-af11-4cb8-90c5-a09b66bada0c",
   "metadata": {},
   "outputs": [
    {
     "data": {
      "application/vnd.jupyter.widget-view+json": {
       "model_id": "50d5b12fb6214780b18c3e2bbbe9cfeb",
       "version_major": 2,
       "version_minor": 0
      },
      "text/plain": [
       "  0%|          | 0/8 [00:00<?, ?it/s]"
      ]
     },
     "metadata": {},
     "output_type": "display_data"
    },
    {
     "name": "stdout",
     "output_type": "stream",
     "text": [
      "Working on Groningen\n",
      "----------------------------\n",
      "Step 1: Clipped buildings of Groningen\n",
      "Step 2: Extracted trees of Groningen from the dictionary\n",
      "Step 3: Created spatial index for Groningen buildings\n",
      "Step 4: Calculated number of floors and cleaned the dataset\n",
      "Step 5: For each tree, calculate FSI\n"
     ]
    },
    {
     "data": {
      "application/vnd.jupyter.widget-view+json": {
       "model_id": "cb9a98488faf4811a9423fb082715750",
       "version_major": 2,
       "version_minor": 0
      },
      "text/plain": [
       "  0%|          | 0/874 [00:00<?, ?it/s]"
      ]
     },
     "metadata": {},
     "output_type": "display_data"
    },
    {
     "name": "stdout",
     "output_type": "stream",
     "text": [
      "Step 6: Add trees to the new dictionary\n",
      "-------\n",
      "Working on Amsterdam\n",
      "----------------------------\n",
      "Step 1: Clipped buildings of Amsterdam\n",
      "Step 2: Extracted trees of Amsterdam from the dictionary\n",
      "Step 3: Created spatial index for Amsterdam buildings\n",
      "Step 4: Calculated number of floors and cleaned the dataset\n",
      "Step 5: For each tree, calculate FSI\n"
     ]
    },
    {
     "data": {
      "application/vnd.jupyter.widget-view+json": {
       "model_id": "7b061f362bf34696a118ead479b1ffd8",
       "version_major": 2,
       "version_minor": 0
      },
      "text/plain": [
       "  0%|          | 0/6412 [00:00<?, ?it/s]"
      ]
     },
     "metadata": {},
     "output_type": "display_data"
    },
    {
     "name": "stdout",
     "output_type": "stream",
     "text": [
      "Step 6: Add trees to the new dictionary\n",
      "-------\n",
      "Working on Heerhugowaard\n",
      "----------------------------\n",
      "Step 1: Clipped buildings of Heerhugowaard\n",
      "Step 2: Extracted trees of Heerhugowaard from the dictionary\n",
      "Step 3: Created spatial index for Heerhugowaard buildings\n",
      "Step 4: Calculated number of floors and cleaned the dataset\n",
      "Step 5: For each tree, calculate FSI\n"
     ]
    },
    {
     "data": {
      "application/vnd.jupyter.widget-view+json": {
       "model_id": "e00eebe6b05040bcb6eba770d784aae2",
       "version_major": 2,
       "version_minor": 0
      },
      "text/plain": [
       "  0%|          | 0/352 [00:00<?, ?it/s]"
      ]
     },
     "metadata": {},
     "output_type": "display_data"
    },
    {
     "name": "stdout",
     "output_type": "stream",
     "text": [
      "Step 6: Add trees to the new dictionary\n",
      "-------\n",
      "Working on Utrecht\n",
      "----------------------------\n",
      "Step 1: Clipped buildings of Utrecht\n",
      "Step 2: Extracted trees of Utrecht from the dictionary\n",
      "Step 3: Created spatial index for Utrecht buildings\n",
      "Step 4: Calculated number of floors and cleaned the dataset\n",
      "Step 5: For each tree, calculate FSI\n"
     ]
    },
    {
     "data": {
      "application/vnd.jupyter.widget-view+json": {
       "model_id": "d447b0a1bdbe4836ae010a5f1bc508e2",
       "version_major": 2,
       "version_minor": 0
      },
      "text/plain": [
       "  0%|          | 0/1651 [00:00<?, ?it/s]"
      ]
     },
     "metadata": {},
     "output_type": "display_data"
    },
    {
     "name": "stdout",
     "output_type": "stream",
     "text": [
      "Step 6: Add trees to the new dictionary\n",
      "-------\n",
      "Working on s-Gravenhage\n",
      "----------------------------\n",
      "Step 1: Clipped buildings of s-Gravenhage\n",
      "Step 2: Extracted trees of s-Gravenhage from the dictionary\n",
      "Step 3: Created spatial index for s-Gravenhage buildings\n",
      "Step 4: Calculated number of floors and cleaned the dataset\n",
      "Step 5: For each tree, calculate FSI\n"
     ]
    },
    {
     "data": {
      "application/vnd.jupyter.widget-view+json": {
       "model_id": "e54c1f0c4a3b4f3ba6c0836ae7ce917a",
       "version_major": 2,
       "version_minor": 0
      },
      "text/plain": [
       "  0%|          | 0/839 [00:00<?, ?it/s]"
      ]
     },
     "metadata": {},
     "output_type": "display_data"
    },
    {
     "name": "stdout",
     "output_type": "stream",
     "text": [
      "Step 6: Add trees to the new dictionary\n",
      "-------\n",
      "Working on Dordrecht\n",
      "----------------------------\n",
      "Step 1: Clipped buildings of Dordrecht\n",
      "Step 2: Extracted trees of Dordrecht from the dictionary\n",
      "Step 3: Created spatial index for Dordrecht buildings\n",
      "Step 4: Calculated number of floors and cleaned the dataset\n",
      "Step 5: For each tree, calculate FSI\n"
     ]
    },
    {
     "data": {
      "application/vnd.jupyter.widget-view+json": {
       "model_id": "2de90abd238b450ba325972be94350a0",
       "version_major": 2,
       "version_minor": 0
      },
      "text/plain": [
       "  0%|          | 0/992 [00:00<?, ?it/s]"
      ]
     },
     "metadata": {},
     "output_type": "display_data"
    },
    {
     "name": "stdout",
     "output_type": "stream",
     "text": [
      "Step 6: Add trees to the new dictionary\n",
      "-------\n",
      "Working on Hendrik-Ido-Ambacht\n",
      "----------------------------\n",
      "Step 1: Clipped buildings of Hendrik-Ido-Ambacht\n",
      "Step 2: Extracted trees of Hendrik-Ido-Ambacht from the dictionary\n",
      "Step 3: Created spatial index for Hendrik-Ido-Ambacht buildings\n",
      "Step 4: Calculated number of floors and cleaned the dataset\n",
      "Step 5: For each tree, calculate FSI\n"
     ]
    },
    {
     "data": {
      "application/vnd.jupyter.widget-view+json": {
       "model_id": "36c341f5862842f2a22e3121fd0cebb4",
       "version_major": 2,
       "version_minor": 0
      },
      "text/plain": [
       "  0%|          | 0/22 [00:00<?, ?it/s]"
      ]
     },
     "metadata": {},
     "output_type": "display_data"
    },
    {
     "name": "stdout",
     "output_type": "stream",
     "text": [
      "Step 6: Add trees to the new dictionary\n",
      "-------\n",
      "Working on Rotterdam\n",
      "----------------------------\n",
      "Step 1: Clipped buildings of Rotterdam\n",
      "Step 2: Extracted trees of Rotterdam from the dictionary\n",
      "Step 3: Created spatial index for Rotterdam buildings\n",
      "Step 4: Calculated number of floors and cleaned the dataset\n",
      "Step 5: For each tree, calculate FSI\n"
     ]
    },
    {
     "data": {
      "application/vnd.jupyter.widget-view+json": {
       "model_id": "7df4d1d5bf034d67bd854ae6e7765d09",
       "version_major": 2,
       "version_minor": 0
      },
      "text/plain": [
       "  0%|          | 0/2244 [00:00<?, ?it/s]"
      ]
     },
     "metadata": {},
     "output_type": "display_data"
    },
    {
     "name": "stdout",
     "output_type": "stream",
     "text": [
      "Step 6: Add trees to the new dictionary\n",
      "-------\n",
      "MISSION SUCCESS - END\n"
     ]
    }
   ],
   "source": [
    "# Define a buffer area for FSI.\n",
    "FSI_buffer = 50\n",
    "\n",
    "# Call the function\n",
    "floorspaceindexinbuffer(study_areas_gdf=study_areas, tree_dict=trees_canyons_dict, buildings_gdf=buildings_nl, buffersize=FSI_buffer)"
   ]
  },
  {
   "cell_type": "code",
   "execution_count": 24,
   "id": "147a213c-0c2e-4ab0-8ba9-643e075076fb",
   "metadata": {},
   "outputs": [
    {
     "data": {
      "text/html": [
       "<div>\n",
       "<style scoped>\n",
       "    .dataframe tbody tr th:only-of-type {\n",
       "        vertical-align: middle;\n",
       "    }\n",
       "\n",
       "    .dataframe tbody tr th {\n",
       "        vertical-align: top;\n",
       "    }\n",
       "\n",
       "    .dataframe thead th {\n",
       "        text-align: right;\n",
       "    }\n",
       "</style>\n",
       "<table border=\"1\" class=\"dataframe\">\n",
       "  <thead>\n",
       "    <tr style=\"text-align: right;\">\n",
       "      <th></th>\n",
       "      <th>rowid</th>\n",
       "      <th>uuid</th>\n",
       "      <th>bron</th>\n",
       "      <th>tree_name</th>\n",
       "      <th>tree_intid</th>\n",
       "      <th>genus</th>\n",
       "      <th>species</th>\n",
       "      <th>cv</th>\n",
       "      <th>bm_treeheight</th>\n",
       "      <th>bm_crown_diameter</th>\n",
       "      <th>geometry</th>\n",
       "      <th>description</th>\n",
       "      <th>FSI_50m</th>\n",
       "    </tr>\n",
       "  </thead>\n",
       "  <tbody>\n",
       "    <tr>\n",
       "      <th>70958</th>\n",
       "      <td>653132</td>\n",
       "      <td>ab789f86-20a1-4063-aa77-6e317b749aa2</td>\n",
       "      <td>Amsterdam</td>\n",
       "      <td>Tilia ×europaea 'Pallida'</td>\n",
       "      <td>1843</td>\n",
       "      <td>Tilia</td>\n",
       "      <td>europaea</td>\n",
       "      <td>Pallida</td>\n",
       "      <td>11.7</td>\n",
       "      <td>10.0</td>\n",
       "      <td>POINT (127552.757 478723.231)</td>\n",
       "      <td>Residential</td>\n",
       "      <td>0.427712</td>\n",
       "    </tr>\n",
       "    <tr>\n",
       "      <th>11882</th>\n",
       "      <td>292656</td>\n",
       "      <td>4cc42d1c-eb8a-4177-a979-41b469eead6a</td>\n",
       "      <td>Amsterdam</td>\n",
       "      <td>Platanus ×hispanica</td>\n",
       "      <td>1181</td>\n",
       "      <td>Platanus</td>\n",
       "      <td>hispanica</td>\n",
       "      <td>None</td>\n",
       "      <td>21.6</td>\n",
       "      <td>17.2</td>\n",
       "      <td>POINT (127783.315 478732.638)</td>\n",
       "      <td>Residential</td>\n",
       "      <td>0.183039</td>\n",
       "    </tr>\n",
       "    <tr>\n",
       "      <th>34654</th>\n",
       "      <td>857787</td>\n",
       "      <td>e1282c82-2c16-43e0-9519-6662fb9e0d98</td>\n",
       "      <td>Amsterdam</td>\n",
       "      <td>Platanus ×hispanica</td>\n",
       "      <td>1181</td>\n",
       "      <td>Platanus</td>\n",
       "      <td>hispanica</td>\n",
       "      <td>None</td>\n",
       "      <td>19.6</td>\n",
       "      <td>14.4</td>\n",
       "      <td>POINT (127791.515 478732.927)</td>\n",
       "      <td>Residential</td>\n",
       "      <td>0.078593</td>\n",
       "    </tr>\n",
       "    <tr>\n",
       "      <th>56640</th>\n",
       "      <td>357881</td>\n",
       "      <td>5de8c1e8-ce6c-4663-a986-74ef6141a77e</td>\n",
       "      <td>Amsterdam</td>\n",
       "      <td>Tilia ×europaea 'Pallida'</td>\n",
       "      <td>1843</td>\n",
       "      <td>Tilia</td>\n",
       "      <td>europaea</td>\n",
       "      <td>Pallida</td>\n",
       "      <td>12.5</td>\n",
       "      <td>12.9</td>\n",
       "      <td>POINT (126815.258 478212.550)</td>\n",
       "      <td>Residential</td>\n",
       "      <td>0.247468</td>\n",
       "    </tr>\n",
       "    <tr>\n",
       "      <th>22072</th>\n",
       "      <td>547273</td>\n",
       "      <td>8f9d92a0-9424-4da0-86cf-e1fc7b844817</td>\n",
       "      <td>Amsterdam</td>\n",
       "      <td>Platanus ×hispanica</td>\n",
       "      <td>1181</td>\n",
       "      <td>Platanus</td>\n",
       "      <td>hispanica</td>\n",
       "      <td>None</td>\n",
       "      <td>16.7</td>\n",
       "      <td>13.1</td>\n",
       "      <td>POINT (126287.323 478602.125)</td>\n",
       "      <td>Residential</td>\n",
       "      <td>0.326963</td>\n",
       "    </tr>\n",
       "  </tbody>\n",
       "</table>\n",
       "</div>"
      ],
      "text/plain": [
       "        rowid                                  uuid       bron  \\\n",
       "70958  653132  ab789f86-20a1-4063-aa77-6e317b749aa2  Amsterdam   \n",
       "11882  292656  4cc42d1c-eb8a-4177-a979-41b469eead6a  Amsterdam   \n",
       "34654  857787  e1282c82-2c16-43e0-9519-6662fb9e0d98  Amsterdam   \n",
       "56640  357881  5de8c1e8-ce6c-4663-a986-74ef6141a77e  Amsterdam   \n",
       "22072  547273  8f9d92a0-9424-4da0-86cf-e1fc7b844817  Amsterdam   \n",
       "\n",
       "                       tree_name  tree_intid     genus    species       cv  \\\n",
       "70958  Tilia ×europaea 'Pallida'        1843     Tilia   europaea  Pallida   \n",
       "11882        Platanus ×hispanica        1181  Platanus  hispanica     None   \n",
       "34654        Platanus ×hispanica        1181  Platanus  hispanica     None   \n",
       "56640  Tilia ×europaea 'Pallida'        1843     Tilia   europaea  Pallida   \n",
       "22072        Platanus ×hispanica        1181  Platanus  hispanica     None   \n",
       "\n",
       "       bm_treeheight  bm_crown_diameter                       geometry  \\\n",
       "70958           11.7               10.0  POINT (127552.757 478723.231)   \n",
       "11882           21.6               17.2  POINT (127783.315 478732.638)   \n",
       "34654           19.6               14.4  POINT (127791.515 478732.927)   \n",
       "56640           12.5               12.9  POINT (126815.258 478212.550)   \n",
       "22072           16.7               13.1  POINT (126287.323 478602.125)   \n",
       "\n",
       "       description   FSI_50m  \n",
       "70958  Residential  0.427712  \n",
       "11882  Residential  0.183039  \n",
       "34654  Residential  0.078593  \n",
       "56640  Residential  0.247468  \n",
       "22072  Residential  0.326963  "
      ]
     },
     "execution_count": 24,
     "metadata": {},
     "output_type": "execute_result"
    }
   ],
   "source": [
    "trees_canyons_dict['Amsterdam'].head()"
   ]
  },
  {
   "cell_type": "code",
   "execution_count": null,
   "id": "d687e7c8-1711-4af9-b2de-368e5416f633",
   "metadata": {},
   "outputs": [],
   "source": [
    "trees_canyons_dict['Amsterdam'].explore(column='FSI_50m', cmap='viridis', scheme='naturalbreaks')"
   ]
  },
  {
   "cell_type": "markdown",
   "id": "ad942e43-65c6-4906-b470-0a5c53606770",
   "metadata": {},
   "source": [
    "#### Ground space index\n",
    "\n",
    "Calculated for two tree dictionaries - separately:\n",
    "- trees_canyons_dict \n",
    "- trees_in_parks_dict"
   ]
  },
  {
   "cell_type": "code",
   "execution_count": 26,
   "id": "09cb9fea-cbe8-4b51-b06a-a0b50d690920",
   "metadata": {},
   "outputs": [
    {
     "data": {
      "application/vnd.jupyter.widget-view+json": {
       "model_id": "599bfd9d582e41aebbc3cd492f1f0d97",
       "version_major": 2,
       "version_minor": 0
      },
      "text/plain": [
       "  0%|          | 0/8 [00:00<?, ?it/s]"
      ]
     },
     "metadata": {},
     "output_type": "display_data"
    },
    {
     "name": "stdout",
     "output_type": "stream",
     "text": [
      "Working on Groningen\n",
      "----------------------------\n",
      "Step 1: Clipped buildings of Groningen\n",
      "Step 2: Extracted trees of Groningen from the dictionary\n",
      "Step 3: Created spatial index for Groningen buildings\n",
      "Step 5: For each tree, calculate GSI\n"
     ]
    },
    {
     "data": {
      "application/vnd.jupyter.widget-view+json": {
       "model_id": "49828799c125407f8986e3091b030923",
       "version_major": 2,
       "version_minor": 0
      },
      "text/plain": [
       "  0%|          | 0/349 [00:00<?, ?it/s]"
      ]
     },
     "metadata": {},
     "output_type": "display_data"
    },
    {
     "name": "stdout",
     "output_type": "stream",
     "text": [
      "Step 6: Add trees to the new dictionary\n",
      "-------\n",
      "Working on Amsterdam\n",
      "----------------------------\n",
      "Step 1: Clipped buildings of Amsterdam\n",
      "Step 2: Extracted trees of Amsterdam from the dictionary\n",
      "Step 3: Created spatial index for Amsterdam buildings\n",
      "Step 5: For each tree, calculate GSI\n"
     ]
    },
    {
     "data": {
      "application/vnd.jupyter.widget-view+json": {
       "model_id": "62dfa0ebfef646249e285ee9a9a0bb6d",
       "version_major": 2,
       "version_minor": 0
      },
      "text/plain": [
       "  0%|          | 0/795 [00:00<?, ?it/s]"
      ]
     },
     "metadata": {},
     "output_type": "display_data"
    },
    {
     "name": "stdout",
     "output_type": "stream",
     "text": [
      "Step 6: Add trees to the new dictionary\n",
      "-------\n",
      "Working on Heerhugowaard\n",
      "----------------------------\n",
      "Step 1: Clipped buildings of Heerhugowaard\n",
      "Step 2: Extracted trees of Heerhugowaard from the dictionary\n",
      "Step 3: Created spatial index for Heerhugowaard buildings\n",
      "Step 5: For each tree, calculate GSI\n"
     ]
    },
    {
     "data": {
      "application/vnd.jupyter.widget-view+json": {
       "model_id": "454ed635c55a4935b2c5cbd6a8d46309",
       "version_major": 2,
       "version_minor": 0
      },
      "text/plain": [
       "  0%|          | 0/7 [00:00<?, ?it/s]"
      ]
     },
     "metadata": {},
     "output_type": "display_data"
    },
    {
     "name": "stdout",
     "output_type": "stream",
     "text": [
      "Step 6: Add trees to the new dictionary\n",
      "-------\n",
      "Working on Utrecht\n",
      "----------------------------\n",
      "Step 1: Clipped buildings of Utrecht\n",
      "Step 2: Extracted trees of Utrecht from the dictionary\n",
      "Step 3: Created spatial index for Utrecht buildings\n",
      "Step 5: For each tree, calculate GSI\n"
     ]
    },
    {
     "data": {
      "application/vnd.jupyter.widget-view+json": {
       "model_id": "d667b208ecff42bab68004c3d1559416",
       "version_major": 2,
       "version_minor": 0
      },
      "text/plain": [
       "  0%|          | 0/336 [00:00<?, ?it/s]"
      ]
     },
     "metadata": {},
     "output_type": "display_data"
    },
    {
     "name": "stdout",
     "output_type": "stream",
     "text": [
      "Step 6: Add trees to the new dictionary\n",
      "-------\n",
      "Working on s-Gravenhage\n",
      "----------------------------\n",
      "Step 1: Clipped buildings of s-Gravenhage\n",
      "Step 2: Extracted trees of s-Gravenhage from the dictionary\n",
      "Step 3: Created spatial index for s-Gravenhage buildings\n",
      "Step 5: For each tree, calculate GSI\n"
     ]
    },
    {
     "data": {
      "application/vnd.jupyter.widget-view+json": {
       "model_id": "4918a901b709475a9bd1044e0aec2637",
       "version_major": 2,
       "version_minor": 0
      },
      "text/plain": [
       "  0%|          | 0/195 [00:00<?, ?it/s]"
      ]
     },
     "metadata": {},
     "output_type": "display_data"
    },
    {
     "name": "stdout",
     "output_type": "stream",
     "text": [
      "Step 6: Add trees to the new dictionary\n",
      "-------\n",
      "Working on Dordrecht\n",
      "----------------------------\n",
      "Step 1: Clipped buildings of Dordrecht\n",
      "Step 2: Extracted trees of Dordrecht from the dictionary\n",
      "Step 3: Created spatial index for Dordrecht buildings\n",
      "Step 5: For each tree, calculate GSI\n"
     ]
    },
    {
     "data": {
      "application/vnd.jupyter.widget-view+json": {
       "model_id": "14eb4f936b9c42679e794d6ae78dd17d",
       "version_major": 2,
       "version_minor": 0
      },
      "text/plain": [
       "  0%|          | 0/52 [00:00<?, ?it/s]"
      ]
     },
     "metadata": {},
     "output_type": "display_data"
    },
    {
     "name": "stdout",
     "output_type": "stream",
     "text": [
      "Step 6: Add trees to the new dictionary\n",
      "-------\n",
      "Working on Hendrik-Ido-Ambacht\n",
      "----------------------------\n",
      "Step 1: Clipped buildings of Hendrik-Ido-Ambacht\n",
      "Step 2: Extracted trees of Hendrik-Ido-Ambacht from the dictionary\n",
      "Step 3: Created spatial index for Hendrik-Ido-Ambacht buildings\n",
      "Step 5: For each tree, calculate GSI\n"
     ]
    },
    {
     "data": {
      "application/vnd.jupyter.widget-view+json": {
       "model_id": "1905542acfac43428592bcfe4dbd057b",
       "version_major": 2,
       "version_minor": 0
      },
      "text/plain": [
       "  0%|          | 0/8 [00:00<?, ?it/s]"
      ]
     },
     "metadata": {},
     "output_type": "display_data"
    },
    {
     "name": "stdout",
     "output_type": "stream",
     "text": [
      "Step 6: Add trees to the new dictionary\n",
      "-------\n",
      "Working on Rotterdam\n",
      "----------------------------\n",
      "Step 1: Clipped buildings of Rotterdam\n",
      "Step 2: Extracted trees of Rotterdam from the dictionary\n",
      "Step 3: Created spatial index for Rotterdam buildings\n",
      "Step 5: For each tree, calculate GSI\n"
     ]
    },
    {
     "data": {
      "application/vnd.jupyter.widget-view+json": {
       "model_id": "d368b7334cfe4e748589cc8ea09d8754",
       "version_major": 2,
       "version_minor": 0
      },
      "text/plain": [
       "  0%|          | 0/350 [00:00<?, ?it/s]"
      ]
     },
     "metadata": {},
     "output_type": "display_data"
    },
    {
     "name": "stdout",
     "output_type": "stream",
     "text": [
      "Step 6: Add trees to the new dictionary\n",
      "-------\n",
      "MISSION SUCCESS - END\n"
     ]
    }
   ],
   "source": [
    "## Define the buffer in m for GSI calculation\n",
    "GSI_buffer_parks = 25\n",
    "\n",
    "\n",
    "# Calls the groundspaceindexinbuffer function. NOTE: The results are saved in the tree_dict_FSI\n",
    "groundspaceindexinbuffer_parks(study_areas_gdf=study_areas, tree_dict=trees_in_parks_dict, buildings_gdf=buildings_nl, buffersize=GSI_buffer_parks)"
   ]
  },
  {
   "cell_type": "code",
   "execution_count": 28,
   "id": "ae0d517a-2d0d-4090-b21c-51b562133eca",
   "metadata": {},
   "outputs": [
    {
     "data": {
      "text/html": [
       "<div>\n",
       "<style scoped>\n",
       "    .dataframe tbody tr th:only-of-type {\n",
       "        vertical-align: middle;\n",
       "    }\n",
       "\n",
       "    .dataframe tbody tr th {\n",
       "        vertical-align: top;\n",
       "    }\n",
       "\n",
       "    .dataframe thead th {\n",
       "        text-align: right;\n",
       "    }\n",
       "</style>\n",
       "<table border=\"1\" class=\"dataframe\">\n",
       "  <thead>\n",
       "    <tr style=\"text-align: right;\">\n",
       "      <th></th>\n",
       "      <th>rowid</th>\n",
       "      <th>uuid</th>\n",
       "      <th>bron</th>\n",
       "      <th>tree_name</th>\n",
       "      <th>tree_intid</th>\n",
       "      <th>genus</th>\n",
       "      <th>species</th>\n",
       "      <th>cv</th>\n",
       "      <th>bm_treeheight</th>\n",
       "      <th>bm_crown_diameter</th>\n",
       "      <th>geometry</th>\n",
       "      <th>description</th>\n",
       "      <th>tree_crown_area_25m</th>\n",
       "      <th>perc_tree_cover_25m</th>\n",
       "      <th>GSI_25m</th>\n",
       "    </tr>\n",
       "  </thead>\n",
       "  <tbody>\n",
       "    <tr>\n",
       "      <th>90304</th>\n",
       "      <td>147061</td>\n",
       "      <td>26870aa1-1891-452c-99f6-5c05d3724760</td>\n",
       "      <td>Amsterdam</td>\n",
       "      <td>Ulmus ×hollandica 'Vegeta'</td>\n",
       "      <td>1942</td>\n",
       "      <td>Ulmus</td>\n",
       "      <td>hollandica</td>\n",
       "      <td>Vegeta</td>\n",
       "      <td>26.2</td>\n",
       "      <td>19.4</td>\n",
       "      <td>POINT (114972.673 485394.808)</td>\n",
       "      <td>Park and public garden</td>\n",
       "      <td>476.284888</td>\n",
       "      <td>0.242960</td>\n",
       "      <td>0.0</td>\n",
       "    </tr>\n",
       "    <tr>\n",
       "      <th>109242</th>\n",
       "      <td>898986</td>\n",
       "      <td>ec076801-e379-4008-aebf-c60eb9921e4c</td>\n",
       "      <td>Amsterdam</td>\n",
       "      <td>Ulmus ×hollandica 'Vegeta'</td>\n",
       "      <td>1942</td>\n",
       "      <td>Ulmus</td>\n",
       "      <td>hollandica</td>\n",
       "      <td>Vegeta</td>\n",
       "      <td>24.4</td>\n",
       "      <td>15.2</td>\n",
       "      <td>POINT (114972.810 485403.708)</td>\n",
       "      <td>Park and public garden</td>\n",
       "      <td>476.284888</td>\n",
       "      <td>0.242960</td>\n",
       "      <td>0.0</td>\n",
       "    </tr>\n",
       "    <tr>\n",
       "      <th>87636</th>\n",
       "      <td>42184</td>\n",
       "      <td>0b10443c-28ce-4f5f-bd5b-be0c8214ddc5</td>\n",
       "      <td>Amsterdam</td>\n",
       "      <td>Ulmus ×hollandica 'Vegeta'</td>\n",
       "      <td>1942</td>\n",
       "      <td>Ulmus</td>\n",
       "      <td>hollandica</td>\n",
       "      <td>Vegeta</td>\n",
       "      <td>31.3</td>\n",
       "      <td>12.4</td>\n",
       "      <td>POINT (116154.413 485406.290)</td>\n",
       "      <td>Park and public garden</td>\n",
       "      <td>1027.622872</td>\n",
       "      <td>0.524206</td>\n",
       "      <td>0.0</td>\n",
       "    </tr>\n",
       "    <tr>\n",
       "      <th>105761</th>\n",
       "      <td>758872</td>\n",
       "      <td>c73da659-c1e8-4333-8084-218486e4f7a9</td>\n",
       "      <td>Amsterdam</td>\n",
       "      <td>Ulmus ×hollandica 'Vegeta'</td>\n",
       "      <td>1942</td>\n",
       "      <td>Ulmus</td>\n",
       "      <td>hollandica</td>\n",
       "      <td>Vegeta</td>\n",
       "      <td>3.0</td>\n",
       "      <td>9.5</td>\n",
       "      <td>POINT (116146.825 485412.136)</td>\n",
       "      <td>Park and public garden</td>\n",
       "      <td>1179.573694</td>\n",
       "      <td>0.601718</td>\n",
       "      <td>0.0</td>\n",
       "    </tr>\n",
       "    <tr>\n",
       "      <th>110205</th>\n",
       "      <td>938059</td>\n",
       "      <td>f6439266-f5e8-4075-8df1-fc4f68f0aeab</td>\n",
       "      <td>Amsterdam</td>\n",
       "      <td>Ulmus ×hollandica 'Vegeta'</td>\n",
       "      <td>1942</td>\n",
       "      <td>Ulmus</td>\n",
       "      <td>hollandica</td>\n",
       "      <td>Vegeta</td>\n",
       "      <td>40.4</td>\n",
       "      <td>14.1</td>\n",
       "      <td>POINT (116159.497 485412.481)</td>\n",
       "      <td>Park and public garden</td>\n",
       "      <td>1010.476378</td>\n",
       "      <td>0.515459</td>\n",
       "      <td>0.0</td>\n",
       "    </tr>\n",
       "  </tbody>\n",
       "</table>\n",
       "</div>"
      ],
      "text/plain": [
       "         rowid                                  uuid       bron  \\\n",
       "90304   147061  26870aa1-1891-452c-99f6-5c05d3724760  Amsterdam   \n",
       "109242  898986  ec076801-e379-4008-aebf-c60eb9921e4c  Amsterdam   \n",
       "87636    42184  0b10443c-28ce-4f5f-bd5b-be0c8214ddc5  Amsterdam   \n",
       "105761  758872  c73da659-c1e8-4333-8084-218486e4f7a9  Amsterdam   \n",
       "110205  938059  f6439266-f5e8-4075-8df1-fc4f68f0aeab  Amsterdam   \n",
       "\n",
       "                         tree_name  tree_intid  genus     species      cv  \\\n",
       "90304   Ulmus ×hollandica 'Vegeta'        1942  Ulmus  hollandica  Vegeta   \n",
       "109242  Ulmus ×hollandica 'Vegeta'        1942  Ulmus  hollandica  Vegeta   \n",
       "87636   Ulmus ×hollandica 'Vegeta'        1942  Ulmus  hollandica  Vegeta   \n",
       "105761  Ulmus ×hollandica 'Vegeta'        1942  Ulmus  hollandica  Vegeta   \n",
       "110205  Ulmus ×hollandica 'Vegeta'        1942  Ulmus  hollandica  Vegeta   \n",
       "\n",
       "        bm_treeheight  bm_crown_diameter                       geometry  \\\n",
       "90304            26.2               19.4  POINT (114972.673 485394.808)   \n",
       "109242           24.4               15.2  POINT (114972.810 485403.708)   \n",
       "87636            31.3               12.4  POINT (116154.413 485406.290)   \n",
       "105761            3.0                9.5  POINT (116146.825 485412.136)   \n",
       "110205           40.4               14.1  POINT (116159.497 485412.481)   \n",
       "\n",
       "                   description  tree_crown_area_25m  perc_tree_cover_25m  \\\n",
       "90304   Park and public garden           476.284888             0.242960   \n",
       "109242  Park and public garden           476.284888             0.242960   \n",
       "87636   Park and public garden          1027.622872             0.524206   \n",
       "105761  Park and public garden          1179.573694             0.601718   \n",
       "110205  Park and public garden          1010.476378             0.515459   \n",
       "\n",
       "        GSI_25m  \n",
       "90304       0.0  \n",
       "109242      0.0  \n",
       "87636       0.0  \n",
       "105761      0.0  \n",
       "110205      0.0  "
      ]
     },
     "execution_count": 28,
     "metadata": {},
     "output_type": "execute_result"
    }
   ],
   "source": [
    "trees_in_parks_dict['Amsterdam'].head()"
   ]
  },
  {
   "cell_type": "code",
   "execution_count": 27,
   "id": "8529176e-0916-4557-9e9e-0cfae9301e3f",
   "metadata": {},
   "outputs": [
    {
     "data": {
      "application/vnd.jupyter.widget-view+json": {
       "model_id": "2406594147b64821857f97fd8d230268",
       "version_major": 2,
       "version_minor": 0
      },
      "text/plain": [
       "  0%|          | 0/8 [00:00<?, ?it/s]"
      ]
     },
     "metadata": {},
     "output_type": "display_data"
    },
    {
     "name": "stdout",
     "output_type": "stream",
     "text": [
      "Working on Groningen\n",
      "----------------------------\n",
      "Step 1: Clipped buildings of Groningen\n",
      "Step 2: Extracted trees of Groningen from the dictionary\n",
      "Step 3: Created spatial index for Groningen buildings\n",
      "Step 5: For each tree, calculate GSI\n"
     ]
    },
    {
     "data": {
      "application/vnd.jupyter.widget-view+json": {
       "model_id": "b6ce6dd7ba15461c9ff54dcd4ee7083a",
       "version_major": 2,
       "version_minor": 0
      },
      "text/plain": [
       "  0%|          | 0/874 [00:00<?, ?it/s]"
      ]
     },
     "metadata": {},
     "output_type": "display_data"
    },
    {
     "name": "stdout",
     "output_type": "stream",
     "text": [
      "Step 6: Add trees to the new dictionary\n",
      "-------\n",
      "Working on Amsterdam\n",
      "----------------------------\n",
      "Step 1: Clipped buildings of Amsterdam\n",
      "Step 2: Extracted trees of Amsterdam from the dictionary\n",
      "Step 3: Created spatial index for Amsterdam buildings\n",
      "Step 5: For each tree, calculate GSI\n"
     ]
    },
    {
     "data": {
      "application/vnd.jupyter.widget-view+json": {
       "model_id": "5ee00b2c5ffa4b05be5abe245769091f",
       "version_major": 2,
       "version_minor": 0
      },
      "text/plain": [
       "  0%|          | 0/6412 [00:00<?, ?it/s]"
      ]
     },
     "metadata": {},
     "output_type": "display_data"
    },
    {
     "name": "stdout",
     "output_type": "stream",
     "text": [
      "Step 6: Add trees to the new dictionary\n",
      "-------\n",
      "Working on Heerhugowaard\n",
      "----------------------------\n",
      "Step 1: Clipped buildings of Heerhugowaard\n",
      "Step 2: Extracted trees of Heerhugowaard from the dictionary\n",
      "Step 3: Created spatial index for Heerhugowaard buildings\n",
      "Step 5: For each tree, calculate GSI\n"
     ]
    },
    {
     "data": {
      "application/vnd.jupyter.widget-view+json": {
       "model_id": "be8fc23f3c444f1a927f944c985e73de",
       "version_major": 2,
       "version_minor": 0
      },
      "text/plain": [
       "  0%|          | 0/352 [00:00<?, ?it/s]"
      ]
     },
     "metadata": {},
     "output_type": "display_data"
    },
    {
     "name": "stdout",
     "output_type": "stream",
     "text": [
      "Step 6: Add trees to the new dictionary\n",
      "-------\n",
      "Working on Utrecht\n",
      "----------------------------\n",
      "Step 1: Clipped buildings of Utrecht\n",
      "Step 2: Extracted trees of Utrecht from the dictionary\n",
      "Step 3: Created spatial index for Utrecht buildings\n",
      "Step 5: For each tree, calculate GSI\n"
     ]
    },
    {
     "data": {
      "application/vnd.jupyter.widget-view+json": {
       "model_id": "2b4013edfc674fd2b3c5ce868d6ca1e7",
       "version_major": 2,
       "version_minor": 0
      },
      "text/plain": [
       "  0%|          | 0/1651 [00:00<?, ?it/s]"
      ]
     },
     "metadata": {},
     "output_type": "display_data"
    },
    {
     "name": "stdout",
     "output_type": "stream",
     "text": [
      "Step 6: Add trees to the new dictionary\n",
      "-------\n",
      "Working on s-Gravenhage\n",
      "----------------------------\n",
      "Step 1: Clipped buildings of s-Gravenhage\n",
      "Step 2: Extracted trees of s-Gravenhage from the dictionary\n",
      "Step 3: Created spatial index for s-Gravenhage buildings\n",
      "Step 5: For each tree, calculate GSI\n"
     ]
    },
    {
     "data": {
      "application/vnd.jupyter.widget-view+json": {
       "model_id": "dfc9c94ce60d4f93a63c6f531b0a05b0",
       "version_major": 2,
       "version_minor": 0
      },
      "text/plain": [
       "  0%|          | 0/839 [00:00<?, ?it/s]"
      ]
     },
     "metadata": {},
     "output_type": "display_data"
    },
    {
     "name": "stdout",
     "output_type": "stream",
     "text": [
      "Step 6: Add trees to the new dictionary\n",
      "-------\n",
      "Working on Dordrecht\n",
      "----------------------------\n",
      "Step 1: Clipped buildings of Dordrecht\n",
      "Step 2: Extracted trees of Dordrecht from the dictionary\n",
      "Step 3: Created spatial index for Dordrecht buildings\n",
      "Step 5: For each tree, calculate GSI\n"
     ]
    },
    {
     "data": {
      "application/vnd.jupyter.widget-view+json": {
       "model_id": "806737a9ca3d482888a37e520f462f29",
       "version_major": 2,
       "version_minor": 0
      },
      "text/plain": [
       "  0%|          | 0/992 [00:00<?, ?it/s]"
      ]
     },
     "metadata": {},
     "output_type": "display_data"
    },
    {
     "name": "stdout",
     "output_type": "stream",
     "text": [
      "Step 6: Add trees to the new dictionary\n",
      "-------\n",
      "Working on Hendrik-Ido-Ambacht\n",
      "----------------------------\n",
      "Step 1: Clipped buildings of Hendrik-Ido-Ambacht\n",
      "Step 2: Extracted trees of Hendrik-Ido-Ambacht from the dictionary\n",
      "Step 3: Created spatial index for Hendrik-Ido-Ambacht buildings\n",
      "Step 5: For each tree, calculate GSI\n"
     ]
    },
    {
     "data": {
      "application/vnd.jupyter.widget-view+json": {
       "model_id": "a29d2436a0c243889daa81953407bbfe",
       "version_major": 2,
       "version_minor": 0
      },
      "text/plain": [
       "  0%|          | 0/22 [00:00<?, ?it/s]"
      ]
     },
     "metadata": {},
     "output_type": "display_data"
    },
    {
     "name": "stdout",
     "output_type": "stream",
     "text": [
      "Step 6: Add trees to the new dictionary\n",
      "-------\n",
      "Working on Rotterdam\n",
      "----------------------------\n",
      "Step 1: Clipped buildings of Rotterdam\n",
      "Step 2: Extracted trees of Rotterdam from the dictionary\n",
      "Step 3: Created spatial index for Rotterdam buildings\n",
      "Step 5: For each tree, calculate GSI\n"
     ]
    },
    {
     "data": {
      "application/vnd.jupyter.widget-view+json": {
       "model_id": "09f914b6610d441087fd2e78d4b8ea10",
       "version_major": 2,
       "version_minor": 0
      },
      "text/plain": [
       "  0%|          | 0/2244 [00:00<?, ?it/s]"
      ]
     },
     "metadata": {},
     "output_type": "display_data"
    },
    {
     "name": "stdout",
     "output_type": "stream",
     "text": [
      "Step 6: Add trees to the new dictionary\n",
      "-------\n",
      "MISSION SUCCESS - END\n"
     ]
    }
   ],
   "source": [
    "## Define the buffer in m for GSI calculation\n",
    "GSI_buffer = 25\n",
    "\n",
    "\n",
    "# Calls the groundspaceindexinbuffer function. NOTE: The results are saved in the tree_dict_FSI\n",
    "groundspaceindexinbuffer(study_areas_gdf=study_areas, tree_dict=trees_canyons_dict, buildings_gdf=buildings_nl, buffersize=GSI_buffer)"
   ]
  },
  {
   "cell_type": "code",
   "execution_count": 29,
   "id": "f0f4d23a-ff8d-4e28-baaa-c2f58a14edd6",
   "metadata": {},
   "outputs": [
    {
     "data": {
      "text/html": [
       "<div>\n",
       "<style scoped>\n",
       "    .dataframe tbody tr th:only-of-type {\n",
       "        vertical-align: middle;\n",
       "    }\n",
       "\n",
       "    .dataframe tbody tr th {\n",
       "        vertical-align: top;\n",
       "    }\n",
       "\n",
       "    .dataframe thead th {\n",
       "        text-align: right;\n",
       "    }\n",
       "</style>\n",
       "<table border=\"1\" class=\"dataframe\">\n",
       "  <thead>\n",
       "    <tr style=\"text-align: right;\">\n",
       "      <th></th>\n",
       "      <th>rowid</th>\n",
       "      <th>uuid</th>\n",
       "      <th>bron</th>\n",
       "      <th>tree_name</th>\n",
       "      <th>tree_intid</th>\n",
       "      <th>genus</th>\n",
       "      <th>species</th>\n",
       "      <th>cv</th>\n",
       "      <th>bm_treeheight</th>\n",
       "      <th>bm_crown_diameter</th>\n",
       "      <th>geometry</th>\n",
       "      <th>description</th>\n",
       "      <th>FSI_50m</th>\n",
       "      <th>GSI_25m</th>\n",
       "    </tr>\n",
       "  </thead>\n",
       "  <tbody>\n",
       "    <tr>\n",
       "      <th>18506</th>\n",
       "      <td>458858</td>\n",
       "      <td>786b4df9-8ce6-428b-8cc0-67c080b653d8</td>\n",
       "      <td>Rotterdam</td>\n",
       "      <td>Platanus ×hispanica</td>\n",
       "      <td>1181</td>\n",
       "      <td>Platanus</td>\n",
       "      <td>hispanica</td>\n",
       "      <td>None</td>\n",
       "      <td>15.4</td>\n",
       "      <td>16.3</td>\n",
       "      <td>POINT (84842.250 429732.420)</td>\n",
       "      <td>Residential</td>\n",
       "      <td>0.651120</td>\n",
       "      <td>0.025444</td>\n",
       "    </tr>\n",
       "    <tr>\n",
       "      <th>34378</th>\n",
       "      <td>850436</td>\n",
       "      <td>df3c07a9-dc53-4763-88a4-7af3c508ef0c</td>\n",
       "      <td>Rotterdam</td>\n",
       "      <td>Platanus ×hispanica</td>\n",
       "      <td>1181</td>\n",
       "      <td>Platanus</td>\n",
       "      <td>hispanica</td>\n",
       "      <td>None</td>\n",
       "      <td>16.1</td>\n",
       "      <td>16.9</td>\n",
       "      <td>POINT (84856.260 429741.060)</td>\n",
       "      <td>Residential</td>\n",
       "      <td>0.491170</td>\n",
       "      <td>0.059021</td>\n",
       "    </tr>\n",
       "    <tr>\n",
       "      <th>34690</th>\n",
       "      <td>858919</td>\n",
       "      <td>e17700eb-4ac0-40be-9db5-047087dc4d4c</td>\n",
       "      <td>Rotterdam</td>\n",
       "      <td>Platanus ×hispanica</td>\n",
       "      <td>1181</td>\n",
       "      <td>Platanus</td>\n",
       "      <td>hispanica</td>\n",
       "      <td>None</td>\n",
       "      <td>13.2</td>\n",
       "      <td>15.1</td>\n",
       "      <td>POINT (85451.570 429962.560)</td>\n",
       "      <td>Other agricultural usage</td>\n",
       "      <td>0.139921</td>\n",
       "      <td>0.000934</td>\n",
       "    </tr>\n",
       "    <tr>\n",
       "      <th>23200</th>\n",
       "      <td>575365</td>\n",
       "      <td>97071698-432d-4cd6-99c1-fa16fe5ea766</td>\n",
       "      <td>Rotterdam</td>\n",
       "      <td>Platanus ×hispanica</td>\n",
       "      <td>1181</td>\n",
       "      <td>Platanus</td>\n",
       "      <td>hispanica</td>\n",
       "      <td>None</td>\n",
       "      <td>14.5</td>\n",
       "      <td>13.5</td>\n",
       "      <td>POINT (85465.500 429962.760)</td>\n",
       "      <td>Other agricultural usage</td>\n",
       "      <td>0.116220</td>\n",
       "      <td>0.024233</td>\n",
       "    </tr>\n",
       "    <tr>\n",
       "      <th>12146</th>\n",
       "      <td>298867</td>\n",
       "      <td>4e65d3fd-b1e2-4da8-a589-29ecefba6ad4</td>\n",
       "      <td>Rotterdam</td>\n",
       "      <td>Platanus ×hispanica</td>\n",
       "      <td>1181</td>\n",
       "      <td>Platanus</td>\n",
       "      <td>hispanica</td>\n",
       "      <td>None</td>\n",
       "      <td>13.6</td>\n",
       "      <td>14.2</td>\n",
       "      <td>POINT (85479.410 429965.240)</td>\n",
       "      <td>Other agricultural usage</td>\n",
       "      <td>0.067987</td>\n",
       "      <td>0.006934</td>\n",
       "    </tr>\n",
       "  </tbody>\n",
       "</table>\n",
       "</div>"
      ],
      "text/plain": [
       "        rowid                                  uuid       bron  \\\n",
       "18506  458858  786b4df9-8ce6-428b-8cc0-67c080b653d8  Rotterdam   \n",
       "34378  850436  df3c07a9-dc53-4763-88a4-7af3c508ef0c  Rotterdam   \n",
       "34690  858919  e17700eb-4ac0-40be-9db5-047087dc4d4c  Rotterdam   \n",
       "23200  575365  97071698-432d-4cd6-99c1-fa16fe5ea766  Rotterdam   \n",
       "12146  298867  4e65d3fd-b1e2-4da8-a589-29ecefba6ad4  Rotterdam   \n",
       "\n",
       "                 tree_name  tree_intid     genus    species    cv  \\\n",
       "18506  Platanus ×hispanica        1181  Platanus  hispanica  None   \n",
       "34378  Platanus ×hispanica        1181  Platanus  hispanica  None   \n",
       "34690  Platanus ×hispanica        1181  Platanus  hispanica  None   \n",
       "23200  Platanus ×hispanica        1181  Platanus  hispanica  None   \n",
       "12146  Platanus ×hispanica        1181  Platanus  hispanica  None   \n",
       "\n",
       "       bm_treeheight  bm_crown_diameter                      geometry  \\\n",
       "18506           15.4               16.3  POINT (84842.250 429732.420)   \n",
       "34378           16.1               16.9  POINT (84856.260 429741.060)   \n",
       "34690           13.2               15.1  POINT (85451.570 429962.560)   \n",
       "23200           14.5               13.5  POINT (85465.500 429962.760)   \n",
       "12146           13.6               14.2  POINT (85479.410 429965.240)   \n",
       "\n",
       "                    description   FSI_50m   GSI_25m  \n",
       "18506               Residential  0.651120  0.025444  \n",
       "34378               Residential  0.491170  0.059021  \n",
       "34690  Other agricultural usage  0.139921  0.000934  \n",
       "23200  Other agricultural usage  0.116220  0.024233  \n",
       "12146  Other agricultural usage  0.067987  0.006934  "
      ]
     },
     "execution_count": 29,
     "metadata": {},
     "output_type": "execute_result"
    }
   ],
   "source": [
    "trees_canyons_dict['Rotterdam'].head()"
   ]
  },
  {
   "cell_type": "code",
   "execution_count": null,
   "id": "b7d4008b-b7d0-4b61-9204-ebada0014afd",
   "metadata": {},
   "outputs": [],
   "source": [
    "trees_canyons_dict['Rotterdam'].explore(column='GSI_25m')"
   ]
  },
  {
   "cell_type": "markdown",
   "id": "195fe316-975e-456b-aded-a679ef54aab3",
   "metadata": {},
   "source": [
    "## Selecting trees with the calculated attributes\n",
    "\n",
    "Now the dataset is pre-filtered and contains FSI/GSI attributes. \n",
    "\n",
    "These can now be filtered further either in a pythonic way or in any external program.\n",
    "\n",
    "The two dictionaries in question are:\n",
    "\n",
    "trees_in_parks_dict: trees in parks\n",
    "\n",
    "tree_dict_FSI_GSI: trees outside of parks"
   ]
  },
  {
   "cell_type": "code",
   "execution_count": 31,
   "id": "b9c546c4-71e0-475f-9f0d-1c104b9365b6",
   "metadata": {},
   "outputs": [
    {
     "data": {
      "application/vnd.jupyter.widget-view+json": {
       "model_id": "f0b99580855743238fbee3986d89387c",
       "version_major": 2,
       "version_minor": 0
      },
      "text/plain": [
       "  0%|          | 0/8 [00:00<?, ?it/s]"
      ]
     },
     "metadata": {},
     "output_type": "display_data"
    }
   ],
   "source": [
    "# Export trees in parks\n",
    "for city, trees in tqdm(trees_in_parks_dict.items(), total=study_areas.shape[0]):\n",
    "    try:\n",
    "        trees.to_file(f'../results/output/tree_selection.gpkg', driver='GPKG', layer=f'{city}_parks')\n",
    "    except:\n",
    "        print(f'Error in data for {city}, e.g. no trees to save')"
   ]
  },
  {
   "cell_type": "code",
   "execution_count": 32,
   "id": "d7cb0c4b-3e41-41de-9f7c-5bc320ea82b2",
   "metadata": {},
   "outputs": [
    {
     "data": {
      "application/vnd.jupyter.widget-view+json": {
       "model_id": "ad87a104ad244f6a9604f1cf48d31487",
       "version_major": 2,
       "version_minor": 0
      },
      "text/plain": [
       "  0%|          | 0/8 [00:00<?, ?it/s]"
      ]
     },
     "metadata": {},
     "output_type": "display_data"
    }
   ],
   "source": [
    "# Export trees outside parks\n",
    "for city, trees in tqdm(trees_canyons_dict.items(), total=study_areas.shape[0]):\n",
    "    trees.to_file(f'../results/output/tree_selection.gpkg', driver='GPKG', layer=f'{city}_outside_parks')\n",
    "            "
   ]
  },
  {
   "cell_type": "code",
   "execution_count": null,
   "id": "f0c7f7ef-b30e-43a8-9f3b-927c123c925d",
   "metadata": {},
   "outputs": [],
   "source": []
  }
 ],
 "metadata": {
  "kernelspec": {
   "display_name": "Python [conda env:momepy_env_2]",
   "language": "python",
   "name": "conda-env-momepy_env_2-py"
  },
  "language_info": {
   "codemirror_mode": {
    "name": "ipython",
    "version": 3
   },
   "file_extension": ".py",
   "mimetype": "text/x-python",
   "name": "python",
   "nbconvert_exporter": "python",
   "pygments_lexer": "ipython3",
   "version": "3.11.0"
  }
 },
 "nbformat": 4,
 "nbformat_minor": 5
}
